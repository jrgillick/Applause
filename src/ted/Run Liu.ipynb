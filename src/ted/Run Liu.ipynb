{
 "cells": [
  {
   "cell_type": "code",
   "execution_count": 1,
   "metadata": {
    "collapsed": false
   },
   "outputs": [
    {
     "name": "stderr",
     "output_type": "stream",
     "text": [
      "/home/jrgillick/.local/lib/python2.7/site-packages/sklearn/cross_validation.py:44: DeprecationWarning: This module was deprecated in version 0.18 in favor of the model_selection module into which all the refactored classes and functions are moved. Also note that the interface of the new CV iterators are different from that of this module. This module will be removed in 0.20.\n",
      "  \"This module will be removed in 0.20.\", DeprecationWarning)\n",
      "/home/jrgillick/.local/lib/python2.7/site-packages/sklearn/grid_search.py:43: DeprecationWarning: This module was deprecated in version 0.18 in favor of the model_selection module into which all the refactored classes and functions are moved. This module will be removed in 0.20.\n",
      "  DeprecationWarning)\n"
     ]
    }
   ],
   "source": [
    "import sys,json,gzip,random,re,math\n",
    "from collections import Counter\n",
    "import numpy as np\n",
    "from sklearn.cross_validation import KFold\n",
    "from sklearn import linear_model\n",
    "from scipy import sparse\n",
    "from sklearn.preprocessing import normalize\n",
    "from sklearn import cross_validation\n",
    "from sklearn.grid_search import GridSearchCV\n",
    "\n",
    "vocab={}\n",
    "liwc={}\n",
    "liwc_vocab={}\n",
    "regex_liwc={}"
   ]
  },
  {
   "cell_type": "code",
   "execution_count": 10,
   "metadata": {
    "collapsed": true
   },
   "outputs": [],
   "source": [
    "# get all flat LIWC categories for a word\n",
    "def getLIWC(word):\n",
    "    vals=[]\n",
    "    if word in liwc:\n",
    "        vals.extend(liwc[word])\n",
    "    if len(word) > 1:\n",
    "        pref=word[0:2]\n",
    "        if pref in regex_liwc:\n",
    "            cands=regex_liwc[pref]\n",
    "            for cand in cands:\n",
    "                if re.match(cand, word) != None:\n",
    "                    vals.extend(regex_liwc[pref][cand])\n",
    "    return vals\n",
    "\n",
    "def readLIWC(filename):\n",
    "    # Liu excludes \"affective or emotional processes\"\n",
    "    invalid={}\n",
    "    invalid[\"31\"]=1\n",
    "    invalid[\"32\"]=1\n",
    "    invalid[\"33\"]=1\n",
    "    invalid[\"34\"]=1\n",
    "    invalid[\"35\"]=1\n",
    "\n",
    "    file=open(filename)\n",
    "    for i in range(75):\n",
    "        line=file.readline()\n",
    "        cols=re.split(\"\\s+\", line.rstrip())\n",
    "        if line.rstrip() != \"%\":\n",
    "            idd=\"%s\" % cols[0]\n",
    "            label=cols[1]\n",
    "            liwc_vocab[idd]=label\n",
    "    for line in file:\n",
    "        cols=line.rstrip().split(\"\\t\")\n",
    "        term=cols[0]\n",
    "        valid=[]\n",
    "        for x in cols[1:]:\n",
    "            if x not in invalid:\n",
    "                valid.append(x)\n",
    "        cats=[\"LIWC_%s\" % liwc_vocab[x] for x in valid]\n",
    "\n",
    "        if term.endswith(\"*\"):\n",
    "            pref=term[0:2]\n",
    "            if pref not in regex_liwc:\n",
    "                regex_liwc[pref]={}\n",
    "            regex_liwc[pref][term]=cats\n",
    "        else:\n",
    "            liwc[term]=cats"
   ]
  },
  {
   "cell_type": "code",
   "execution_count": 11,
   "metadata": {
    "collapsed": true
   },
   "outputs": [],
   "source": [
    "N=0\n",
    "fid=1"
   ]
  },
  {
   "cell_type": "code",
   "execution_count": 15,
   "metadata": {
    "collapsed": false
   },
   "outputs": [
    {
     "data": {
      "text/plain": [
       "'/data/corpora/ted/transcripts_clean/a_robot_that_flies_like_a_bird.html'"
      ]
     },
     "execution_count": 15,
     "metadata": {},
     "output_type": "execute_result"
    }
   ],
   "source": [
    "filename = transcripts[0]\n",
    "filename"
   ]
  },
  {
   "cell_type": "code",
   "execution_count": null,
   "metadata": {
    "collapsed": true
   },
   "outputs": [],
   "source": []
  },
  {
   "cell_type": "code",
   "execution_count": 12,
   "metadata": {
    "collapsed": true
   },
   "outputs": [],
   "source": [
    "def read(filename):\n",
    "\n",
    "    N=0\n",
    "    fid=1\n",
    "\n",
    "    for key in liwc_vocab:\n",
    "        feat=\"LIWC_%s\" % (liwc_vocab[key])\n",
    "        vocab[feat]=fid\n",
    "        fid+=1\n",
    "\n",
    "    counts=Counter()\n",
    "    f=open(filename)\n",
    "    for line in f:\n",
    "        cols=line.rstrip().split(\"\\t\")\n",
    "        label=cols[0]\n",
    "        text=cols[1].lower().split(\" \")\n",
    "        N+=1\n",
    "        for word in text:\n",
    "            counts[word.lower()]+=1\n",
    "    f.close()\n",
    "    for word in counts:\n",
    "        count=counts[word]\n",
    "        if count >= 500000:\n",
    "            vocab[word.lower()]=fid\n",
    "            fid+=1\n",
    "\n",
    "\n",
    "    X = sparse.dok_matrix((N+1, fid+1))\t\n",
    "    Y = np.zeros(N+1)\n",
    "\n",
    "    f=open(filename)\n",
    "    docid=1\n",
    "    for line in f:\n",
    "        cols=line.rstrip().split(\"\\t\")\n",
    "        label=int(cols[0])\n",
    "        text=cols[1].lower().split(\" \")\n",
    "\n",
    "        for word in text:\n",
    "            cats=getLIWC(word)\n",
    "            for cat in cats:\n",
    "                X[docid,vocab[cat]]=1\n",
    "        for word in text:\n",
    "            if word in vocab:\n",
    "                X[docid,vocab[word]]=1\n",
    "        Y[docid]=label\n",
    "        docid+=1\n",
    "    f.close()\n",
    "\n",
    "    return X, Y"
   ]
  },
  {
   "cell_type": "code",
   "execution_count": 7,
   "metadata": {
    "collapsed": true
   },
   "outputs": [],
   "source": [
    "readLIWC('/data/corpora/LIWC/LIWC.txt')"
   ]
  },
  {
   "cell_type": "code",
   "execution_count": 8,
   "metadata": {
    "collapsed": false
   },
   "outputs": [
    {
     "data": {
      "text/plain": [
       "904"
      ]
     },
     "execution_count": 8,
     "metadata": {},
     "output_type": "execute_result"
    }
   ],
   "source": [
    "import os\n",
    "\n",
    "pathname=\"/data/corpora/ted/transcripts_clean/\"\n",
    "files = [pathname + f for f in os.listdir(pathname)]\n",
    "talk_names = open('/home/jrgillick/Applause/talk_names.txt').read().replace('.txt','.html').split('\\n')\n",
    "talk_names = ['isabel_allende_how_to_live_passionately_no_matter_your_age.html' if t == 'isabelle_allende_how_to_live_passionately_no_matter_your_age.html' else t for t in talk_names\n",
    "]\n",
    "talk_names = [t for t in talk_names if t not in ['', 'test.html', '\\r']]\n",
    "transcripts = [pathname + t for t in talk_names]\n",
    "len(transcripts)"
   ]
  },
  {
   "cell_type": "code",
   "execution_count": 13,
   "metadata": {
    "collapsed": false
   },
   "outputs": [
    {
     "ename": "ValueError",
     "evalue": "invalid literal for int() with base 10: '0:11'",
     "output_type": "error",
     "traceback": [
      "\u001b[0;31m---------------------------------------------------------------------------\u001b[0m",
      "\u001b[0;31mValueError\u001b[0m                                Traceback (most recent call last)",
      "\u001b[0;32m<ipython-input-13-e4ebc75d37b4>\u001b[0m in \u001b[0;36m<module>\u001b[0;34m()\u001b[0m\n\u001b[0;32m----> 1\u001b[0;31m \u001b[0mread\u001b[0m\u001b[0;34m(\u001b[0m\u001b[0mtranscripts\u001b[0m\u001b[0;34m[\u001b[0m\u001b[0;36m0\u001b[0m\u001b[0;34m]\u001b[0m\u001b[0;34m)\u001b[0m\u001b[0;34m\u001b[0m\u001b[0m\n\u001b[0m",
      "\u001b[0;32m<ipython-input-12-b12309b62338>\u001b[0m in \u001b[0;36mread\u001b[0;34m(filename)\u001b[0m\n\u001b[1;32m     33\u001b[0m     \u001b[0;32mfor\u001b[0m \u001b[0mline\u001b[0m \u001b[0;32min\u001b[0m \u001b[0mf\u001b[0m\u001b[0;34m:\u001b[0m\u001b[0;34m\u001b[0m\u001b[0m\n\u001b[1;32m     34\u001b[0m         \u001b[0mcols\u001b[0m\u001b[0;34m=\u001b[0m\u001b[0mline\u001b[0m\u001b[0;34m.\u001b[0m\u001b[0mrstrip\u001b[0m\u001b[0;34m(\u001b[0m\u001b[0;34m)\u001b[0m\u001b[0;34m.\u001b[0m\u001b[0msplit\u001b[0m\u001b[0;34m(\u001b[0m\u001b[0;34m\"\\t\"\u001b[0m\u001b[0;34m)\u001b[0m\u001b[0;34m\u001b[0m\u001b[0m\n\u001b[0;32m---> 35\u001b[0;31m         \u001b[0mlabel\u001b[0m\u001b[0;34m=\u001b[0m\u001b[0mint\u001b[0m\u001b[0;34m(\u001b[0m\u001b[0mcols\u001b[0m\u001b[0;34m[\u001b[0m\u001b[0;36m0\u001b[0m\u001b[0;34m]\u001b[0m\u001b[0;34m)\u001b[0m\u001b[0;34m\u001b[0m\u001b[0m\n\u001b[0m\u001b[1;32m     36\u001b[0m         \u001b[0mtext\u001b[0m\u001b[0;34m=\u001b[0m\u001b[0mcols\u001b[0m\u001b[0;34m[\u001b[0m\u001b[0;36m1\u001b[0m\u001b[0;34m]\u001b[0m\u001b[0;34m.\u001b[0m\u001b[0mlower\u001b[0m\u001b[0;34m(\u001b[0m\u001b[0;34m)\u001b[0m\u001b[0;34m.\u001b[0m\u001b[0msplit\u001b[0m\u001b[0;34m(\u001b[0m\u001b[0;34m\" \"\u001b[0m\u001b[0;34m)\u001b[0m\u001b[0;34m\u001b[0m\u001b[0m\n\u001b[1;32m     37\u001b[0m \u001b[0;34m\u001b[0m\u001b[0m\n",
      "\u001b[0;31mValueError\u001b[0m: invalid literal for int() with base 10: '0:11'"
     ]
    }
   ],
   "source": [
    "read(transcripts[0])"
   ]
  },
  {
   "cell_type": "code",
   "execution_count": null,
   "metadata": {
    "collapsed": true
   },
   "outputs": [],
   "source": []
  }
 ],
 "metadata": {
  "kernelspec": {
   "display_name": "Python 2",
   "language": "python",
   "name": "python2"
  },
  "language_info": {
   "codemirror_mode": {
    "name": "ipython",
    "version": 2
   },
   "file_extension": ".py",
   "mimetype": "text/x-python",
   "name": "python",
   "nbconvert_exporter": "python",
   "pygments_lexer": "ipython2",
   "version": "2.7.6"
  }
 },
 "nbformat": 4,
 "nbformat_minor": 1
}
