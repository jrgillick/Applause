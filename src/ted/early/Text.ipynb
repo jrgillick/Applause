{
 "cells": [
  {
   "cell_type": "code",
   "execution_count": 2,
   "metadata": {
    "collapsed": true
   },
   "outputs": [],
   "source": [
    "import numpy as np\n",
    "import os\n",
    "\n",
    "from __future__ import unicode_literals\n",
    "import glob, os, sys,re\n",
    "import numpy as np\n",
    "import spacy\n",
    "from random import shuffle\n",
    "\n",
    "reload(sys)\n",
    "sys.setdefaultencoding('utf8')\n",
    "\n",
    "nlp = spacy.load('en')\n",
    "\n",
    "root_dir = '/data/corpora/ted/transcripts_clean/'"
   ]
  },
  {
   "cell_type": "code",
   "execution_count": 3,
   "metadata": {
    "collapsed": true
   },
   "outputs": [],
   "source": [
    "applause_tags = [\n",
    "    'Applause',\n",
    "    '(Applause)',\n",
    "    'APPLAUSE AND CHEERS',\n",
    "    'Applause.',\n",
    "    'CHEERING & APPLAUSE',\n",
    "    'CHEERING AND APPLAUSE',\n",
    "    'cheers and applause continuing',\n",
    "    'Cheers, applause, chanting',\n",
    "    'Cheers, applause',\n",
    "    'Cheers, chanting, applause',\n",
    "    'continued applause',\n",
    "    'extended cheers, applause',\n",
    "    'inaudible, cheers, applause',\n",
    "    'laughter, applause',\n",
    "    'Laughter, applause, cheers',\n",
    "    'laughter, cheers, applause',\n",
    "    'mixed cheers and boos, applause',\n",
    "    'scattered applause',\n",
    "    'scattered cheers, applause',\n",
    "    'Sustained applause',\n",
    "    'Sustained cheers and applause',\n",
    "    'Sustained cheers, applause',\n",
    "    'applause.',\n",
    "    'applause and cheering',\n",
    "    'applpause',\n",
    "    'cheering and applause',\n",
    "    'cheers and applause',\n",
    "    'cheers, laughter, and applause',\n",
    "    'extended cheers and applause',\n",
    "    'laughter and applause.',\n",
    "    'laughter and claps.',\n",
    "    'laughter, cheers, and applause',\n",
    "    'pplause.',\n",
    "    'scattered applause.',\n",
    "    'sustained applause.'\n",
    "]"
   ]
  },
  {
   "cell_type": "code",
   "execution_count": 4,
   "metadata": {
    "collapsed": false
   },
   "outputs": [],
   "source": [
    "transcript_files = [root_dir + f for f in os.listdir(root_dir)]\n",
    "missing = []\n",
    "for t in transcript_files:\n",
    "    text = open(t).read()\n",
    "    if text == '':\n",
    "        missing.append(t)\n",
    "transcript_files = [t for t in transcript_files if t not in missing]"
   ]
  },
  {
   "cell_type": "code",
   "execution_count": 5,
   "metadata": {
    "collapsed": false
   },
   "outputs": [
    {
     "data": {
      "text/plain": [
       "904"
      ]
     },
     "execution_count": 5,
     "metadata": {},
     "output_type": "execute_result"
    }
   ],
   "source": [
    "import os\n",
    "\n",
    "pathname=\"/data/corpora/ted/transcripts_clean/\"\n",
    "files = [pathname + f for f in os.listdir(pathname)]\n",
    "talk_names = open('/home/jrgillick/Applause/talk_names.txt').read().replace('.txt','.html').split('\\n')\n",
    "talk_names = ['isabel_allende_how_to_live_passionately_no_matter_your_age.html' if t == 'isabelle_allende_how_to_live_passionately_no_matter_your_age.html' else t for t in talk_names\n",
    "]\n",
    "talk_names = [t for t in talk_names if t not in ['', 'test.html', '\\r']]\n",
    "transcript_files = [pathname + t for t in talk_names]\n",
    "len(transcript_files)"
   ]
  },
  {
   "cell_type": "code",
   "execution_count": 9,
   "metadata": {
    "collapsed": false
   },
   "outputs": [
    {
     "data": {
      "text/plain": [
       "[u'Applause',\n",
       " u'(Applause)',\n",
       " u'Applause.',\n",
       " u'applause.',\n",
       " u'applause and cheering',\n",
       " u'pplause.']"
      ]
     },
     "execution_count": 9,
     "metadata": {},
     "output_type": "execute_result"
    }
   ],
   "source": [
    "tag_hash = {}\n",
    "for tag in applause_tags:\n",
    "    tag_hash[tag] = []\n",
    "    \n",
    "for index, f in enumerate(transcript_files):\n",
    "    text = open(f).read()\n",
    "    for tag in tag_hash:\n",
    "        if tag in text:\n",
    "            tag_hash[tag].append(index)\n",
    "            \n",
    "used_tags = [tag for tag in applause_tags if len(tag_hash[tag]) > 0]\n",
    "used_tags"
   ]
  },
  {
   "cell_type": "code",
   "execution_count": 13,
   "metadata": {
    "collapsed": false
   },
   "outputs": [],
   "source": [
    "class Transcript:\n",
    "    def __init__(self,transcript_file):\n",
    "        self.text = open(transcript_file).read()\n",
    "        self.lines = self.get_lines()\n",
    "        self.word_list = self.get_word_list()        \n",
    "        \n",
    "    def get_word_list(self):\n",
    "        return self.text.replace('\\n',' ').replace('\\t',' ').split(' ')\n",
    "    \n",
    "    def get_lines(self):\n",
    "        lines = self.text.split('\\n')\n",
    "        lines = [l for l in lines if len(l) > 0]\n",
    "        split_lines = [line.split('\\t') for line in lines]\n",
    "        return split_lines\n",
    "        \n",
    "    def get_timestamps(self):\n",
    "        return [l[0] for l in self.lines]\n",
    "    \n",
    "    def get_text_lines(self):\n",
    "        return [l[1] for l in self.lines]\n",
    "    \n",
    "    def count_words_in_line(self,line):\n",
    "        return len(line.split(' '))\n",
    "        \n",
    "    def count_words_following(self,line_index, word_index):\n",
    "        future_lines = self.get_text_lines()[line_index+1:]\n",
    "        current_line_words = self.count_words_in_line(self.get_text_lines()[line_index]) - word_index - 1\n",
    "        total_future_line_words = sum([self.count_words_in_line(l) for l in future_lines])\n",
    "        return current_line_words + total_future_line_words\n",
    "    \n",
    "    def get_word(self, line_index, word_index):\n",
    "        lines = self.get_text_lines()\n",
    "        return lines[line_index].split(' ')[word_index]\n",
    "    \n",
    "    def get_line(self, line_index):\n",
    "        return self.get_text_lines()[line_index]\n",
    "    \n",
    "    def get_preceding_line(self, line_index, word_index):\n",
    "        lines = self.get_text_lines()\n",
    "        temp_index = line_index\n",
    "        if word_index == 0:\n",
    "            line = \"\"\n",
    "            word_len = 0;\n",
    "        else:\n",
    "            line = self.get_text_lines()[line_index]\n",
    "            words = line.split(' ')\n",
    "            line = ' '.join(words[0:word_index])\n",
    "            word_len = word_index\n",
    "        while word_len < 10 and temp_index > 0:\n",
    "            temp_index -= 1\n",
    "            line = lines[temp_index] + \" \" + line\n",
    "            word_len = len(line.split(\" \"))\n",
    "        return line\n",
    "        \n",
    "            #return ' '.join(words[0:word_index])\n",
    "    \n",
    "    def get_word_index_of_applause_in_line(self,line):\n",
    "        words = line.split(' ')\n",
    "        for index, word in enumerate(words):\n",
    "            if '(Applause)' in word:\n",
    "                return index\n",
    "        return -999\n",
    "    \n",
    "    # Returns (line_index, word_index)\n",
    "    def find_applause_instances2(self, exclude_final = False):\n",
    "        lines = self.get_text_lines()\n",
    "        instances = []\n",
    "        for line_index, l in enumerate(lines):\n",
    "            for tag in applause_tags:\n",
    "                if tag in l:\n",
    "                    word_index = self.get_word_index_of_applause_in_line(l)\n",
    "                    if exclude_final:\n",
    "                        words_following = self.count_words_following(line_index,word_index)\n",
    "                        if words_following > 0:\n",
    "                            instances.append((line_index,word_index))\n",
    "                    else:\n",
    "                        instances.append((line_index,word_index))\n",
    "        return instances\n",
    "    \n",
    "    # Returns (line_index, word_index)\n",
    "    def find_applause_instances(self, exclude_final = False):\n",
    "        lines = self.get_text_lines()\n",
    "        instances = []\n",
    "        for line_index, l in enumerate(lines):\n",
    "            if '(Applause)' in l:\n",
    "                word_index = self.get_word_index_of_applause_in_line(l)\n",
    "                if exclude_final:\n",
    "                    words_following = self.count_words_following(line_index,word_index)\n",
    "                    if words_following > 0:\n",
    "                        instances.append((line_index,word_index))\n",
    "                else:\n",
    "                    instances.append((line_index,word_index))\n",
    "        return instances\n",
    "        "
   ]
  },
  {
   "cell_type": "code",
   "execution_count": 14,
   "metadata": {
    "collapsed": false
   },
   "outputs": [],
   "source": [
    "transcript = Transcript(transcript_files[1])"
   ]
  },
  {
   "cell_type": "code",
   "execution_count": 15,
   "metadata": {
    "collapsed": false,
    "scrolled": true
   },
   "outputs": [
    {
     "data": {
      "text/plain": [
       "[(2, 0), (4, 0), (20, 0), (22, 0), (26, 0), (64, 0)]"
      ]
     },
     "execution_count": 15,
     "metadata": {},
     "output_type": "execute_result"
    }
   ],
   "source": [
    "instances = transcript.find_applause_instances()\n",
    "instances"
   ]
  },
  {
   "cell_type": "code",
   "execution_count": 16,
   "metadata": {
    "collapsed": false
   },
   "outputs": [
    {
     "data": {
      "text/plain": [
       "[u'(Whistling)',\n",
       " u'(Whistling ends)',\n",
       " u'(Applause)',\n",
       " u'Thank you.',\n",
       " u'(Applause)',\n",
       " u\"Thank you very much. That was whistling. I'm trying to do this in English. What is a chubby, curly-haired guy from Holland \\u2014 why is he whistling? Well actually, I've been whistling since the age of four, about four. My dad was always whistling around the house, and I just thought that's part of communication in my family. So I whistled along with him. And actually, until I was 34, I always annoyed and irritated people with whistling, because, to be honest, my whistling is a kind of deviant behavior. I whistled alone, I whistled in the classroom, I whistled on bike, I whistled everywhere.\",\n",
       " u\"And I also whistled at a Christmas Eve party with my family-in-law. And they had some, in my opinion, terrible Christmas music. And when I hear music that I don't like, I try to make it better.\",\n",
       " u'(Laughter)',\n",
       " u'So when \"Rudolph the Red-Nosed Reindeer\" \\u2014 you know it?',\n",
       " u'(Whistling)',\n",
       " u'But it can also sound like this.',\n",
       " u'(Whistling)',\n",
       " u'But during a Christmas party \\u2014 at dinner, actually \\u2014 it\\'s very annoying. So my sister-in-law asked me a few times, \"Please stop whistling.\" And I just couldn\\'t. And at one point \\u2014 and I had some wine, I have to admit that \\u2014 at one point I said, \"If there was a contest, I would join.\"',\n",
       " u'And two weeks later, I received a text message: \"You\\'re going to America.\"',\n",
       " u'(Laughter)',\n",
       " u\"So, OK, I'm going to America. I would love to, but why? So I immediately called her up, of course. She googled, and she found this World Whistling Championship in America, of course.\",\n",
       " u'(Laughter)',\n",
       " u\"She didn't expect me to go there. And I would have lost my face. I don't know if that's correct English. But the Dutch people here will understand what I mean.\",\n",
       " u'(Laughter)',\n",
       " u'I lost my face.',\n",
       " u'(Applause)',\n",
       " u'And she thought, \"He will never go there.\" But actually, I did. So I went to Louisburg, North Carolina, southeast of the United States, and I entered the world of whistling. And I also entered the World Championship, and I won there, in 2004.',\n",
       " u'(Applause)',\n",
       " u\"That was great fun, of course. And to defend my title \\u2014 like judokas do and sportsmen \\u2014 I thought, well let's go back in 2005 \\u2014 and I won again.\",\n",
       " u'(Laughter)',\n",
       " u\"Then I couldn't participate for a few years. And in 2008, I entered again in Japan, Tokyo, and I won again. So what happened now is I'm standing here in Rotterdam, in the beautiful city, on a big stage, and I'm talking about whistling. And actually, I earn my money whistling, at the moment. So I quit my day job as a nurse.\",\n",
       " u'(Applause)',\n",
       " u'And I try to live my dream \\u2014 well, actually, it was never my dream, but it sounds so good.',\n",
       " u'(Laughter)',\n",
       " u'OK, I\\'m not the only one whistling here. You say, \"Huh, what do you mean?\" Well actually, you are going to whistle along. And then always the same thing happens: people are watching each other and think, \"Oh, my God. Why? Can I go away?\" No, you can\\'t.',\n",
       " u'(Laughter)',\n",
       " u'Actually, it\\'s very simple. The track that I will whistle is called \"F\\xeate de la Belle.\" It\\'s about 80 minutes long.',\n",
       " u'(Laughter)',\n",
       " u\"No, no, no. It's four minutes long. And I want to first rehearse with you your whistling. Yes, so I whistle the tone.\",\n",
       " u'(Whistling)',\n",
       " u'(Laughter)',\n",
       " u'Sorry, I forgot one thing \\u2014 you whistle the same tone as me.',\n",
       " u'(Laughter)',\n",
       " u'I heard a wide variety of tones.',\n",
       " u'(Geert Chatrou and audience whistling)',\n",
       " u'(Whistling ends)',\n",
       " u'This is very promising.',\n",
       " u'(Laughter)',\n",
       " u\"This is very promising. I'll ask the technicians to start the music. And if it's started, I just point where you whistle along, and we will see what happens.\",\n",
       " u'(Laughter)',\n",
       " u\"Oh, I'm so sorry, technicians.\",\n",
       " u'(Laughter)',\n",
       " u\"I'm so used to that.\",\n",
       " u'(Laughter)',\n",
       " u'I start it myself.',\n",
       " u'(Laughter)',\n",
       " u'OK, here it is.',\n",
       " u'(Laughter)',\n",
       " u'(Music)',\n",
       " u'(Whistling)',\n",
       " u'(Whistling ends)',\n",
       " u'(Music)',\n",
       " u'OK.',\n",
       " u'(Whistling)',\n",
       " u\"It's easy, isn't it?\",\n",
       " u'(Whistling)',\n",
       " u'Now comes the solo, I propose I do that myself, OK?',\n",
       " u'(Music)',\n",
       " u'(Whistling)',\n",
       " u'(Applause)',\n",
       " u'Max Westerman: Geert Chatrou, the World Champion of Whistling.',\n",
       " u'Geert Chatrou: Thank you. Thank you.']"
      ]
     },
     "execution_count": 16,
     "metadata": {},
     "output_type": "execute_result"
    }
   ],
   "source": [
    "transcript.get_text_lines()"
   ]
  },
  {
   "cell_type": "code",
   "execution_count": 568,
   "metadata": {
    "collapsed": false
   },
   "outputs": [],
   "source": [
    "pre_applause_text = []\n",
    "for f in transcript_files:\n",
    "    t = Transcript(f)\n",
    "    applause_instances = t.find_applause_instances(exclude_final=True)\n",
    "    for instance in applause_instances:\n",
    "        text = t.get_preceding_line(instance[0],instance[1])\n",
    "        pre_applause_text.append(text)"
   ]
  },
  {
   "cell_type": "code",
   "execution_count": 569,
   "metadata": {
    "collapsed": false
   },
   "outputs": [
    {
     "data": {
      "text/plain": [
       "2968"
      ]
     },
     "execution_count": 569,
     "metadata": {},
     "output_type": "execute_result"
    }
   ],
   "source": [
    "len(pre_applause_text)"
   ]
  },
  {
   "cell_type": "code",
   "execution_count": 560,
   "metadata": {
    "collapsed": true
   },
   "outputs": [],
   "source": [
    "glove_path = \"/data/jrgillick/word-vectors/glove.840B.300d.txt\""
   ]
  },
  {
   "cell_type": "code",
   "execution_count": 561,
   "metadata": {
    "collapsed": true
   },
   "outputs": [],
   "source": [
    "def loadGloveModel(gloveFile):\n",
    "    print \"Loading Glove Model\"\n",
    "    f = open(gloveFile,'r')\n",
    "    model = {}\n",
    "    for line in f:\n",
    "        splitLine = line.split()\n",
    "        word = splitLine[0]\n",
    "        embedding = [float(val) for val in splitLine[1:]]\n",
    "        model[word] = embedding\n",
    "    print \"Done.\",len(model),\" words loaded!\"\n",
    "    return model"
   ]
  },
  {
   "cell_type": "code",
   "execution_count": 562,
   "metadata": {
    "collapsed": false
   },
   "outputs": [
    {
     "name": "stdout",
     "output_type": "stream",
     "text": [
      "Loading Glove Model\n"
     ]
    },
    {
     "ename": "KeyboardInterrupt",
     "evalue": "",
     "output_type": "error",
     "traceback": [
      "\u001b[0;31m---------------------------------------------------------------------------\u001b[0m",
      "\u001b[0;31mKeyboardInterrupt\u001b[0m                         Traceback (most recent call last)",
      "\u001b[0;32m<ipython-input-562-438ed52bdb08>\u001b[0m in \u001b[0;36m<module>\u001b[0;34m()\u001b[0m\n\u001b[0;32m----> 1\u001b[0;31m \u001b[0mword_vecs\u001b[0m \u001b[0;34m=\u001b[0m \u001b[0mloadGloveModel\u001b[0m\u001b[0;34m(\u001b[0m\u001b[0mglove_path\u001b[0m\u001b[0;34m)\u001b[0m\u001b[0;34m\u001b[0m\u001b[0m\n\u001b[0m",
      "\u001b[0;32m<ipython-input-561-2c9c94ebbf8d>\u001b[0m in \u001b[0;36mloadGloveModel\u001b[0;34m(gloveFile)\u001b[0m\n\u001b[1;32m      6\u001b[0m         \u001b[0msplitLine\u001b[0m \u001b[0;34m=\u001b[0m \u001b[0mline\u001b[0m\u001b[0;34m.\u001b[0m\u001b[0msplit\u001b[0m\u001b[0;34m(\u001b[0m\u001b[0;34m)\u001b[0m\u001b[0;34m\u001b[0m\u001b[0m\n\u001b[1;32m      7\u001b[0m         \u001b[0mword\u001b[0m \u001b[0;34m=\u001b[0m \u001b[0msplitLine\u001b[0m\u001b[0;34m[\u001b[0m\u001b[0;36m0\u001b[0m\u001b[0;34m]\u001b[0m\u001b[0;34m\u001b[0m\u001b[0m\n\u001b[0;32m----> 8\u001b[0;31m         \u001b[0membedding\u001b[0m \u001b[0;34m=\u001b[0m \u001b[0;34m[\u001b[0m\u001b[0mfloat\u001b[0m\u001b[0;34m(\u001b[0m\u001b[0mval\u001b[0m\u001b[0;34m)\u001b[0m \u001b[0;32mfor\u001b[0m \u001b[0mval\u001b[0m \u001b[0;32min\u001b[0m \u001b[0msplitLine\u001b[0m\u001b[0;34m[\u001b[0m\u001b[0;36m1\u001b[0m\u001b[0;34m:\u001b[0m\u001b[0;34m]\u001b[0m\u001b[0;34m]\u001b[0m\u001b[0;34m\u001b[0m\u001b[0m\n\u001b[0m\u001b[1;32m      9\u001b[0m         \u001b[0mmodel\u001b[0m\u001b[0;34m[\u001b[0m\u001b[0mword\u001b[0m\u001b[0;34m]\u001b[0m \u001b[0;34m=\u001b[0m \u001b[0membedding\u001b[0m\u001b[0;34m\u001b[0m\u001b[0m\n\u001b[1;32m     10\u001b[0m     \u001b[0;32mprint\u001b[0m \u001b[0;34m\"Done.\"\u001b[0m\u001b[0;34m,\u001b[0m\u001b[0mlen\u001b[0m\u001b[0;34m(\u001b[0m\u001b[0mmodel\u001b[0m\u001b[0;34m)\u001b[0m\u001b[0;34m,\u001b[0m\u001b[0;34m\" words loaded!\"\u001b[0m\u001b[0;34m\u001b[0m\u001b[0m\n",
      "\u001b[0;31mKeyboardInterrupt\u001b[0m: "
     ]
    }
   ],
   "source": [
    "word_vecs = loadGloveModel(glove_path)"
   ]
  },
  {
   "cell_type": "code",
   "execution_count": null,
   "metadata": {
    "collapsed": true
   },
   "outputs": [],
   "source": []
  }
 ],
 "metadata": {
  "kernelspec": {
   "display_name": "Python 2",
   "language": "python",
   "name": "python2"
  },
  "language_info": {
   "codemirror_mode": {
    "name": "ipython",
    "version": 2
   },
   "file_extension": ".py",
   "mimetype": "text/x-python",
   "name": "python",
   "nbconvert_exporter": "python",
   "pygments_lexer": "ipython2",
   "version": "2.7.6"
  }
 },
 "nbformat": 4,
 "nbformat_minor": 1
}
