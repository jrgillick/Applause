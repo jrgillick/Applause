{
 "cells": [
  {
   "cell_type": "code",
   "execution_count": 7,
   "metadata": {
    "collapsed": false
   },
   "outputs": [
    {
     "name": "stderr",
     "output_type": "stream",
     "text": [
      "/home/jrgillick/.local/lib/python2.7/site-packages/sklearn/cross_validation.py:44: DeprecationWarning: This module was deprecated in version 0.18 in favor of the model_selection module into which all the refactored classes and functions are moved. Also note that the interface of the new CV iterators are different from that of this module. This module will be removed in 0.20.\n",
      "  \"This module will be removed in 0.20.\", DeprecationWarning)\n",
      "/home/jrgillick/.local/lib/python2.7/site-packages/sklearn/grid_search.py:43: DeprecationWarning: This module was deprecated in version 0.18 in favor of the model_selection module into which all the refactored classes and functions are moved. This module will be removed in 0.20.\n",
      "  DeprecationWarning)\n"
     ]
    }
   ],
   "source": [
    "import pickle, numpy as np, keras\n",
    "from sklearn.model_selection import train_test_split\n",
    "from sklearn.preprocessing import StandardScaler\n",
    "from sklearn.utils import shuffle\n",
    "import models"
   ]
  },
  {
   "cell_type": "code",
   "execution_count": 2,
   "metadata": {
    "collapsed": true
   },
   "outputs": [],
   "source": [
    "with open('/data/jrgillick/x_train.pkl') as f:\n",
    "    X_train = pickle.load(f)"
   ]
  },
  {
   "cell_type": "code",
   "execution_count": 3,
   "metadata": {
    "collapsed": true
   },
   "outputs": [],
   "source": [
    "with open('/data/jrgillick/x_test.pkl') as f:\n",
    "    X_test = pickle.load(f)"
   ]
  },
  {
   "cell_type": "code",
   "execution_count": 4,
   "metadata": {
    "collapsed": true
   },
   "outputs": [],
   "source": [
    "with open('/data/jrgillick/y_train.pkl') as f:\n",
    "    y_train = pickle.load(f)"
   ]
  },
  {
   "cell_type": "code",
   "execution_count": 5,
   "metadata": {
    "collapsed": true
   },
   "outputs": [],
   "source": [
    "with open('/data/jrgillick/y_test.pkl') as f:\n",
    "    y_test = pickle.load(f)"
   ]
  },
  {
   "cell_type": "code",
   "execution_count": 333,
   "metadata": {
    "collapsed": false
   },
   "outputs": [
    {
     "data": {
      "text/plain": [
       "<module 'models' from 'models.py'>"
      ]
     },
     "execution_count": 333,
     "metadata": {},
     "output_type": "execute_result"
    }
   ],
   "source": [
    "reload(models)"
   ]
  },
  {
   "cell_type": "code",
   "execution_count": 897,
   "metadata": {
    "collapsed": false
   },
   "outputs": [],
   "source": [
    "with open('/data/jrgillick/x_train_deltas.pkl','rb') as f:\n",
    "    X_train_deltas = pickle.load(f)\n",
    "    \n",
    "with open('/data/jrgillick/x_test_deltas.pkl','rb') as f:\n",
    "    X_test_deltas = pickle.load(f)\n",
    "\n",
    "with open('/data/jrgillick/y_train_deltas.pkl','rb') as f:\n",
    "    y_train_deltas = pickle.load(f)\n",
    "    \n",
    "with open('/data/jrgillick/y_test_deltas.pkl','rb') as f:\n",
    "    y_test_deltas = pickle.load(f)"
   ]
  },
  {
   "cell_type": "code",
   "execution_count": 118,
   "metadata": {
    "collapsed": false
   },
   "outputs": [
    {
     "data": {
      "text/plain": [
       "(30531, 3, 91)"
      ]
     },
     "execution_count": 118,
     "metadata": {},
     "output_type": "execute_result"
    }
   ],
   "source": []
  },
  {
   "cell_type": "code",
   "execution_count": 120,
   "metadata": {
    "collapsed": false
   },
   "outputs": [
    {
     "data": {
      "text/plain": [
       "30531"
      ]
     },
     "execution_count": 120,
     "metadata": {},
     "output_type": "execute_result"
    }
   ],
   "source": []
  },
  {
   "cell_type": "code",
   "execution_count": 898,
   "metadata": {
    "collapsed": false
   },
   "outputs": [
    {
     "data": {
      "text/plain": [
       "(28974, 2304)"
      ]
     },
     "execution_count": 898,
     "metadata": {},
     "output_type": "execute_result"
    }
   ],
   "source": [
    "X_train_deltas.shape"
   ]
  },
  {
   "cell_type": "code",
   "execution_count": 831,
   "metadata": {
    "collapsed": false
   },
   "outputs": [],
   "source": [
    "deltas_model = models.initialize_feed_forward_model(input_dim=1536,layer_sizes=[60,30])"
   ]
  },
  {
   "cell_type": "code",
   "execution_count": 836,
   "metadata": {
    "collapsed": false
   },
   "outputs": [
    {
     "name": "stdout",
     "output_type": "stream",
     "text": [
      "Epoch 1/3\n",
      "29617/29617 [==============================] - 2s - loss: 0.5939 - acc: 0.6853     \n",
      "Epoch 2/3\n",
      "29617/29617 [==============================] - 2s - loss: 0.5848 - acc: 0.6949     \n",
      "Epoch 3/3\n",
      "29617/29617 [==============================] - 2s - loss: 0.5763 - acc: 0.6990     \n"
     ]
    },
    {
     "data": {
      "text/plain": [
       "<keras.callbacks.History at 0x7f9e8cbc4750>"
      ]
     },
     "execution_count": 836,
     "metadata": {},
     "output_type": "execute_result"
    }
   ],
   "source": [
    "deltas_model.fit(X_train_deltas,np.array(y_train_deltas),batch_size=128,epochs=3)"
   ]
  },
  {
   "cell_type": "code",
   "execution_count": 837,
   "metadata": {
    "collapsed": false
   },
   "outputs": [
    {
     "name": "stdout",
     "output_type": "stream",
     "text": [
      "7405/7405 [==============================] - 0s     \n"
     ]
    },
    {
     "data": {
      "text/plain": [
       "[0.6052891886049151, 0.6737339633610665]"
      ]
     },
     "execution_count": 837,
     "metadata": {},
     "output_type": "execute_result"
    }
   ],
   "source": [
    "deltas_model.evaluate(X_test_deltas,np.array(y_test_deltas),batch_size=128)"
   ]
  },
  {
   "cell_type": "code",
   "execution_count": 735,
   "metadata": {
    "collapsed": false
   },
   "outputs": [
    {
     "name": "stdout",
     "output_type": "stream",
     "text": [
      "7488/7534 [============================>.] - ETA: 0sAccuracy: 0.672 +/- 0.011 (5065/7534) | Precision: 0.670 | Recall: 0.676 | F1: 0.673\n"
     ]
    },
    {
     "data": {
      "text/plain": [
       "(0.6722856384390762,\n",
       " 0.67001055966209078,\n",
       " 0.67553899387809424,\n",
       " 0.67276341948310148)"
      ]
     },
     "execution_count": 735,
     "metadata": {},
     "output_type": "execute_result"
    }
   ],
   "source": [
    "models.evaluate_model(deltas_model, X_test_deltas, y_test_deltas,model_type='keras')"
   ]
  },
  {
   "cell_type": "code",
   "execution_count": 446,
   "metadata": {
    "collapsed": false
   },
   "outputs": [
    {
     "data": {
      "text/plain": [
       "(30905, 4800)"
      ]
     },
     "execution_count": 446,
     "metadata": {},
     "output_type": "execute_result"
    }
   ],
   "source": [
    "X_train.shape"
   ]
  },
  {
   "cell_type": "code",
   "execution_count": 20,
   "metadata": {
    "collapsed": true
   },
   "outputs": [],
   "source": [
    "model = models.train_cv_logistic_regression(X_train,y_train)"
   ]
  },
  {
   "cell_type": "code",
   "execution_count": 21,
   "metadata": {
    "collapsed": false
   },
   "outputs": [
    {
     "name": "stdout",
     "output_type": "stream",
     "text": [
      "Accuracy: 0.634 +/- 0.011 (4899/7727) | Precision: 0.636 | Recall: 0.621 | F1: 0.628\n"
     ]
    },
    {
     "data": {
      "text/plain": [
       "(0.634010612139252,\n",
       " 0.63587969124301302,\n",
       " 0.62068069628474931,\n",
       " 0.62818827241651332)"
      ]
     },
     "execution_count": 21,
     "metadata": {},
     "output_type": "execute_result"
    }
   ],
   "source": [
    "models.evaluate_model(model, X_test, y_test)"
   ]
  },
  {
   "cell_type": "code",
   "execution_count": null,
   "metadata": {
    "collapsed": false
   },
   "outputs": [],
   "source": []
  },
  {
   "cell_type": "code",
   "execution_count": null,
   "metadata": {
    "collapsed": true
   },
   "outputs": [],
   "source": []
  },
  {
   "cell_type": "code",
   "execution_count": 3,
   "metadata": {
    "collapsed": true
   },
   "outputs": [],
   "source": [
    "def balance(X,y):\n",
    "    X,y = shuffle(X,y)\n",
    "    positive_indices = [i for i,lab in enumerate(y) if lab == 1]\n",
    "    negative_indices = [i for i,lab in enumerate(y) if lab == 0]\n",
    "    negative_indices = negative_indices[0:len(positive_indices)]\n",
    "    X = [x for i,x in enumerate(X) if i in positive_indices or i in negative_indices]\n",
    "    y = [x for i,x in enumerate(y) if i in positive_indices or i in negative_indices]\n",
    "    return (X,y)"
   ]
  },
  {
   "cell_type": "code",
   "execution_count": 462,
   "metadata": {
    "collapsed": false
   },
   "outputs": [
    {
     "data": {
      "text/plain": [
       "StandardScaler(copy=True, with_mean=True, with_std=True)"
      ]
     },
     "execution_count": 462,
     "metadata": {},
     "output_type": "execute_result"
    }
   ],
   "source": [
    "scaler = StandardScaler()\n",
    "scaler.fit(X_train)\n",
    "#model.fit(scaler.transform(X_train),y_train,batch_size=128,epochs=1)"
   ]
  },
  {
   "cell_type": "code",
   "execution_count": 1,
   "metadata": {
    "collapsed": false
   },
   "outputs": [
    {
     "ename": "NameError",
     "evalue": "name 'scaler' is not defined",
     "output_type": "error",
     "traceback": [
      "\u001b[0;31m---------------------------------------------------------------------------\u001b[0m",
      "\u001b[0;31mNameError\u001b[0m                                 Traceback (most recent call last)",
      "\u001b[0;32m<ipython-input-1-501c8c05bca8>\u001b[0m in \u001b[0;36m<module>\u001b[0;34m()\u001b[0m\n\u001b[0;32m----> 1\u001b[0;31m \u001b[0mX_train\u001b[0m \u001b[0;34m=\u001b[0m \u001b[0mscaler\u001b[0m\u001b[0;34m.\u001b[0m\u001b[0mtransform\u001b[0m\u001b[0;34m(\u001b[0m\u001b[0mX_train\u001b[0m\u001b[0;34m)\u001b[0m\u001b[0;34m\u001b[0m\u001b[0m\n\u001b[0m\u001b[1;32m      2\u001b[0m \u001b[0mX_test\u001b[0m \u001b[0;34m=\u001b[0m \u001b[0mscaler\u001b[0m\u001b[0;34m.\u001b[0m\u001b[0mtransform\u001b[0m\u001b[0;34m(\u001b[0m\u001b[0mX_test\u001b[0m\u001b[0;34m)\u001b[0m\u001b[0;34m\u001b[0m\u001b[0m\n",
      "\u001b[0;31mNameError\u001b[0m: name 'scaler' is not defined"
     ]
    }
   ],
   "source": [
    "X_train = scaler.transform(X_train)\n",
    "X_test = scaler.transform(X_test)"
   ]
  },
  {
   "cell_type": "code",
   "execution_count": 283,
   "metadata": {
    "collapsed": true
   },
   "outputs": [],
   "source": [
    "with open('/data/jrgillick/less_skip_thought_feats.pkl','rb') as f:\n",
    "    skip_thought_feats = pickle.load(f)"
   ]
  },
  {
   "cell_type": "code",
   "execution_count": 284,
   "metadata": {
    "collapsed": true
   },
   "outputs": [],
   "source": [
    "with open('/data/jrgillick/less_labs.pkl','rb') as f:\n",
    "    all_labs= pickle.load(f)"
   ]
  },
  {
   "cell_type": "code",
   "execution_count": 62,
   "metadata": {
    "collapsed": false
   },
   "outputs": [],
   "source": [
    "#skip_thought_feats = skip_thought_feats[0:215] + skip_thought_feats[216:]\n",
    "#all_labs = all_labs[0:215] + all_labs[216:]"
   ]
  },
  {
   "cell_type": "code",
   "execution_count": 63,
   "metadata": {
    "collapsed": false,
    "scrolled": true
   },
   "outputs": [],
   "source": [
    "#lstm_inputs_by_speech = []\n",
    "#for i,f in enumerate(skip_thought_feats):\n",
    "#    try:\n",
    "#        lstm_inputs_by_speech.append(models.format_lstm_input(f,input_size=4800,lstm_length=3))\n",
    "#    except:\n",
    "#        print i"
   ]
  },
  {
   "cell_type": "code",
   "execution_count": 344,
   "metadata": {
    "collapsed": false
   },
   "outputs": [
    {
     "name": "stderr",
     "output_type": "stream",
     "text": [
      "100%|██████████| 240/240 [00:00<00:00, 219788.86it/s]\n",
      "100%|██████████| 294/294 [00:00<00:00, 255199.79it/s]\n",
      "100%|██████████| 136/136 [00:00<00:00, 231316.04it/s]\n",
      "100%|██████████| 439/439 [00:00<00:00, 278562.70it/s]\n",
      "100%|██████████| 32/32 [00:00<00:00, 133284.73it/s]\n",
      "100%|██████████| 168/168 [00:00<00:00, 271434.16it/s]\n",
      "100%|██████████| 203/203 [00:00<00:00, 263604.86it/s]\n",
      "100%|██████████| 390/390 [00:00<00:00, 272176.13it/s]\n",
      "100%|██████████| 183/183 [00:00<00:00, 279824.15it/s]\n",
      "100%|██████████| 41/41 [00:00<00:00, 198118.05it/s]\n",
      "100%|██████████| 365/365 [00:00<00:00, 318477.42it/s]\n",
      "100%|██████████| 456/456 [00:00<00:00, 306654.26it/s]\n",
      "100%|██████████| 454/454 [00:00<00:00, 312217.42it/s]\n",
      "100%|██████████| 202/202 [00:00<00:00, 287300.58it/s]\n",
      "100%|██████████| 105/105 [00:00<00:00, 263713.72it/s]\n",
      "100%|██████████| 448/448 [00:00<00:00, 322528.01it/s]\n",
      "100%|██████████| 383/383 [00:00<00:00, 333350.99it/s]\n",
      "100%|██████████| 534/534 [00:00<00:00, 344048.90it/s]\n",
      "100%|██████████| 513/513 [00:00<00:00, 329053.06it/s]\n",
      "100%|██████████| 378/378 [00:00<00:00, 342133.56it/s]\n",
      "100%|██████████| 261/261 [00:00<00:00, 271910.92it/s]\n",
      "100%|██████████| 90/90 [00:00<00:00, 205044.74it/s]\n",
      "100%|██████████| 1234/1234 [00:00<00:00, 381694.04it/s]\n",
      "100%|██████████| 529/529 [00:00<00:00, 343465.45it/s]\n",
      "100%|██████████| 149/149 [00:00<00:00, 280121.60it/s]\n",
      "100%|██████████| 467/467 [00:00<00:00, 352481.55it/s]\n",
      "100%|██████████| 180/180 [00:00<00:00, 286083.64it/s]\n",
      "100%|██████████| 116/116 [00:00<00:00, 323281.90it/s]\n",
      "100%|██████████| 457/457 [00:00<00:00, 384050.68it/s]\n",
      "100%|██████████| 478/478 [00:00<00:00, 376361.43it/s]\n",
      "100%|██████████| 80/80 [00:00<00:00, 305317.85it/s]\n",
      "100%|██████████| 226/226 [00:00<00:00, 346586.00it/s]\n",
      "100%|██████████| 158/158 [00:00<00:00, 358216.23it/s]\n",
      "100%|██████████| 122/122 [00:00<00:00, 337759.13it/s]\n",
      "100%|██████████| 216/216 [00:00<00:00, 384374.06it/s]\n",
      "100%|██████████| 248/248 [00:00<00:00, 332966.51it/s]\n",
      "100%|██████████| 244/244 [00:00<00:00, 409364.07it/s]\n",
      "100%|██████████| 267/267 [00:00<00:00, 400242.73it/s]\n",
      "100%|██████████| 165/165 [00:00<00:00, 391880.05it/s]\n",
      "100%|██████████| 91/91 [00:00<00:00, 342315.39it/s]\n",
      "100%|██████████| 151/151 [00:00<00:00, 382220.82it/s]\n",
      "100%|██████████| 249/249 [00:00<00:00, 358894.05it/s]\n",
      "100%|██████████| 175/175 [00:00<00:00, 405975.22it/s]\n",
      "100%|██████████| 725/725 [00:00<00:00, 448638.30it/s]\n",
      "100%|██████████| 372/372 [00:00<00:00, 448743.48it/s]\n",
      "100%|██████████| 258/258 [00:00<00:00, 433545.85it/s]\n",
      "100%|██████████| 296/296 [00:00<00:00, 411642.57it/s]\n",
      "100%|██████████| 225/225 [00:00<00:00, 415186.27it/s]\n",
      "100%|██████████| 411/411 [00:00<00:00, 451745.01it/s]\n",
      "100%|██████████| 665/665 [00:00<00:00, 471628.70it/s]\n",
      "100%|██████████| 588/588 [00:00<00:00, 427648.82it/s]\n",
      "100%|██████████| 142/142 [00:00<00:00, 416497.32it/s]\n",
      "100%|██████████| 476/476 [00:00<00:00, 478889.11it/s]\n",
      "100%|██████████| 386/386 [00:00<00:00, 627763.22it/s]\n",
      "100%|██████████| 325/325 [00:00<00:00, 433295.87it/s]\n",
      "100%|██████████| 460/460 [00:00<00:00, 431918.48it/s]\n",
      "100%|██████████| 412/412 [00:00<00:00, 469197.19it/s]\n",
      "100%|██████████| 397/397 [00:00<00:00, 460110.17it/s]\n",
      "100%|██████████| 463/463 [00:00<00:00, 489899.79it/s]\n",
      "100%|██████████| 293/293 [00:00<00:00, 467274.17it/s]\n",
      "100%|██████████| 725/725 [00:00<00:00, 467754.25it/s]\n",
      "100%|██████████| 402/402 [00:00<00:00, 444297.82it/s]\n",
      "100%|██████████| 296/296 [00:00<00:00, 473498.85it/s]\n",
      "100%|██████████| 352/352 [00:00<00:00, 503545.36it/s]\n",
      "100%|██████████| 246/246 [00:00<00:00, 489004.16it/s]\n",
      "100%|██████████| 609/609 [00:00<00:00, 505008.13it/s]\n",
      "100%|██████████| 436/436 [00:00<00:00, 468421.25it/s]\n",
      "100%|██████████| 712/712 [00:00<00:00, 528931.00it/s]\n",
      "100%|██████████| 348/348 [00:00<00:00, 490792.80it/s]\n",
      "100%|██████████| 40/40 [00:00<00:00, 317750.30it/s]\n",
      "100%|██████████| 411/411 [00:00<00:00, 531727.00it/s]\n",
      "100%|██████████| 102/102 [00:00<00:00, 426965.08it/s]\n",
      "100%|██████████| 452/452 [00:00<00:00, 536149.72it/s]\n",
      "100%|██████████| 554/554 [00:00<00:00, 497674.97it/s]\n",
      "100%|██████████| 378/378 [00:00<00:00, 455457.31it/s]\n",
      "100%|██████████| 296/296 [00:00<00:00, 545001.75it/s]\n",
      "100%|██████████| 386/386 [00:00<00:00, 549186.34it/s]\n",
      "100%|██████████| 447/447 [00:00<00:00, 526496.46it/s]\n",
      "100%|██████████| 333/333 [00:00<00:00, 551185.17it/s]\n",
      "100%|██████████| 100/100 [00:00<00:00, 448588.66it/s]\n",
      "100%|██████████| 590/590 [00:00<00:00, 539372.14it/s]\n",
      "100%|██████████| 225/225 [00:00<00:00, 507921.64it/s]\n",
      "100%|██████████| 537/537 [00:00<00:00, 518853.09it/s]\n",
      "100%|██████████| 339/339 [00:00<00:00, 499251.78it/s]\n",
      "100%|██████████| 130/130 [00:00<00:00, 485106.33it/s]\n",
      "100%|██████████| 581/581 [00:00<00:00, 572443.18it/s]\n",
      "100%|██████████| 106/106 [00:00<00:00, 447279.90it/s]\n",
      "100%|██████████| 280/280 [00:00<00:00, 533335.66it/s]\n",
      "100%|██████████| 394/394 [00:00<00:00, 554921.35it/s]\n",
      "100%|██████████| 171/171 [00:00<00:00, 499809.05it/s]\n",
      "100%|██████████| 77/77 [00:00<00:00, 398717.79it/s]\n",
      "100%|██████████| 457/457 [00:00<00:00, 561287.53it/s]\n",
      "100%|██████████| 96/96 [00:00<00:00, 430185.03it/s]\n",
      "100%|██████████| 179/179 [00:00<00:00, 510041.04it/s]\n",
      "100%|██████████| 399/399 [00:00<00:00, 558028.44it/s]\n",
      "100%|██████████| 234/234 [00:00<00:00, 481347.30it/s]\n",
      "100%|██████████| 268/268 [00:00<00:00, 456569.24it/s]\n",
      "100%|██████████| 376/376 [00:00<00:00, 489010.33it/s]\n",
      "100%|██████████| 149/149 [00:00<00:00, 471305.65it/s]\n",
      "100%|██████████| 574/574 [00:00<00:00, 565413.46it/s]\n",
      "100%|██████████| 467/467 [00:00<00:00, 562694.62it/s]\n",
      "100%|██████████| 243/243 [00:00<00:00, 504312.65it/s]\n",
      "100%|██████████| 297/297 [00:00<00:00, 529412.79it/s]\n",
      "100%|██████████| 170/170 [00:00<00:00, 492765.50it/s]\n",
      "100%|██████████| 54/54 [00:00<00:00, 362387.87it/s]\n",
      "100%|██████████| 254/254 [00:00<00:00, 499931.12it/s]\n",
      "100%|██████████| 324/324 [00:00<00:00, 545545.76it/s]\n",
      "100%|██████████| 182/182 [00:00<00:00, 502874.39it/s]\n",
      "100%|██████████| 325/325 [00:00<00:00, 549878.50it/s]\n",
      "100%|██████████| 136/136 [00:00<00:00, 459649.75it/s]\n",
      "100%|██████████| 333/333 [00:00<00:00, 421582.62it/s]\n",
      "100%|██████████| 79/79 [00:00<00:00, 385290.72it/s]\n",
      "100%|██████████| 41/41 [00:00<00:00, 341203.30it/s]\n",
      "100%|██████████| 411/411 [00:00<00:00, 553939.25it/s]\n",
      "100%|██████████| 398/398 [00:00<00:00, 557373.29it/s]\n",
      "100%|██████████| 331/331 [00:00<00:00, 502284.60it/s]\n",
      "100%|██████████| 334/334 [00:00<00:00, 557460.22it/s]\n",
      "100%|██████████| 673/673 [00:00<00:00, 537567.43it/s]\n",
      "100%|██████████| 580/580 [00:00<00:00, 574833.72it/s]\n",
      "100%|██████████| 99/99 [00:00<00:00, 460350.44it/s]\n",
      "100%|██████████| 282/282 [00:00<00:00, 527091.68it/s]\n",
      "100%|██████████| 170/170 [00:00<00:00, 480156.01it/s]\n",
      "100%|██████████| 127/127 [00:00<00:00, 466850.66it/s]\n",
      "100%|██████████| 165/165 [00:00<00:00, 504417.03it/s]\n",
      "100%|██████████| 68/68 [00:00<00:00, 405131.64it/s]\n",
      "100%|██████████| 111/111 [00:00<00:00, 462331.42it/s]\n",
      "100%|██████████| 308/308 [00:00<00:00, 480418.61it/s]\n",
      "100%|██████████| 408/408 [00:00<00:00, 474431.95it/s]\n",
      "100%|██████████| 407/407 [00:00<00:00, 551561.14it/s]\n",
      "100%|██████████| 266/266 [00:00<00:00, 527760.11it/s]\n",
      "100%|██████████| 304/304 [00:00<00:00, 518742.24it/s]\n",
      "100%|██████████| 67/67 [00:00<00:00, 394135.16it/s]\n",
      "100%|██████████| 83/83 [00:00<00:00, 428200.78it/s]\n",
      "100%|██████████| 93/93 [00:00<00:00, 400894.42it/s]\n",
      "100%|██████████| 303/303 [00:00<00:00, 541950.58it/s]\n",
      "100%|██████████| 411/411 [00:00<00:00, 511075.88it/s]\n",
      "100%|██████████| 215/215 [00:00<00:00, 515594.83it/s]\n",
      "100%|██████████| 380/380 [00:00<00:00, 553031.06it/s]\n",
      "100%|██████████| 115/115 [00:00<00:00, 442518.31it/s]\n",
      "100%|██████████| 129/129 [00:00<00:00, 395515.51it/s]\n",
      "100%|██████████| 285/285 [00:00<00:00, 535803.07it/s]\n",
      "100%|██████████| 360/360 [00:00<00:00, 514989.58it/s]\n",
      "100%|██████████| 453/453 [00:00<00:00, 521983.44it/s]\n",
      "100%|██████████| 96/96 [00:00<00:00, 356962.04it/s]\n",
      "100%|██████████| 229/229 [00:00<00:00, 474318.82it/s]\n",
      "100%|██████████| 40/40 [00:00<00:00, 279620.27it/s]\n",
      "100%|██████████| 302/302 [00:00<00:00, 530880.05it/s]\n",
      "0it [00:00, ?it/s]\n",
      "100%|██████████| 41/41 [00:00<00:00, 344622.17it/s]\n",
      "100%|██████████| 151/151 [00:00<00:00, 495183.66it/s]\n",
      "100%|██████████| 68/68 [00:00<00:00, 225108.66it/s]\n",
      "100%|██████████| 32/32 [00:00<00:00, 271146.93it/s]\n",
      "100%|██████████| 332/332 [00:00<00:00, 540570.24it/s]\n",
      "100%|██████████| 331/331 [00:00<00:00, 527876.28it/s]\n",
      "100%|██████████| 222/222 [00:00<00:00, 509373.90it/s]\n",
      "100%|██████████| 130/130 [00:00<00:00, 469646.44it/s]\n",
      "100%|██████████| 269/269 [00:00<00:00, 521380.67it/s]\n",
      "100%|██████████| 305/305 [00:00<00:00, 535032.51it/s]\n",
      "100%|██████████| 259/259 [00:00<00:00, 517051.28it/s]\n",
      "100%|██████████| 416/416 [00:00<00:00, 557631.98it/s]\n",
      "100%|██████████| 131/131 [00:00<00:00, 472851.83it/s]\n",
      "100%|██████████| 258/258 [00:00<00:00, 536239.06it/s]\n",
      "100%|██████████| 265/265 [00:00<00:00, 497088.80it/s]\n",
      "100%|██████████| 94/94 [00:00<00:00, 349525.33it/s]\n",
      "100%|██████████| 213/213 [00:00<00:00, 527382.97it/s]\n",
      "100%|██████████| 46/46 [00:00<00:00, 365412.85it/s]\n",
      "100%|██████████| 65/65 [00:00<00:00, 377603.55it/s]\n",
      "100%|██████████| 3/3 [00:00<00:00, 46260.71it/s]\n",
      "100%|██████████| 317/317 [00:00<00:00, 551241.45it/s]\n",
      "100%|██████████| 97/97 [00:00<00:00, 410957.06it/s]\n",
      "100%|██████████| 192/192 [00:00<00:00, 506800.74it/s]\n",
      "100%|██████████| 80/80 [00:00<00:00, 430185.03it/s]\n",
      "100%|██████████| 484/484 [00:00<00:00, 758611.04it/s]\n",
      "100%|██████████| 83/83 [00:00<00:00, 361127.83it/s]\n",
      "100%|██████████| 337/337 [00:00<00:00, 538263.69it/s]\n",
      "100%|██████████| 359/359 [00:00<00:00, 556450.53it/s]\n",
      "100%|██████████| 267/267 [00:00<00:00, 494427.89it/s]\n",
      "100%|██████████| 70/70 [00:00<00:00, 222931.88it/s]\n",
      "100%|██████████| 234/234 [00:00<00:00, 531960.51it/s]\n",
      "100%|██████████| 463/463 [00:00<00:00, 460726.63it/s]\n",
      "100%|██████████| 450/450 [00:00<00:00, 515411.47it/s]\n",
      "100%|██████████| 239/239 [00:00<00:00, 438512.10it/s]\n",
      "100%|██████████| 158/158 [00:00<00:00, 493815.23it/s]\n",
      "100%|██████████| 89/89 [00:00<00:00, 438137.39it/s]\n",
      "100%|██████████| 83/83 [00:00<00:00, 416918.84it/s]\n",
      "100%|██████████| 231/231 [00:00<00:00, 532061.63it/s]\n",
      "100%|██████████| 294/294 [00:00<00:00, 541319.30it/s]\n",
      "100%|██████████| 161/161 [00:00<00:00, 490757.95it/s]\n",
      "100%|██████████| 188/188 [00:00<00:00, 496242.39it/s]\n",
      "100%|██████████| 456/456 [00:00<00:00, 510708.31it/s]\n",
      "100%|██████████| 276/276 [00:00<00:00, 513132.94it/s]\n",
      "100%|██████████| 75/75 [00:00<00:00, 343795.41it/s]\n",
      "100%|██████████| 288/288 [00:00<00:00, 528416.25it/s]\n",
      "100%|██████████| 372/372 [00:00<00:00, 537657.16it/s]\n",
      "100%|██████████| 264/264 [00:00<00:00, 512637.16it/s]\n",
      "100%|██████████| 277/277 [00:00<00:00, 514080.62it/s]\n",
      "100%|██████████| 127/127 [00:00<00:00, 450276.08it/s]\n"
     ]
    }
   ],
   "source": [
    "lstm_X, lstm_y = models.format_lstm_input(skip_thought_feats,all_labs,input_size=4800,lstm_length=6)"
   ]
  },
  {
   "cell_type": "code",
   "execution_count": 345,
   "metadata": {
    "collapsed": false
   },
   "outputs": [
    {
     "data": {
      "text/plain": [
       "(55548, 6, 4800)"
      ]
     },
     "execution_count": 345,
     "metadata": {},
     "output_type": "execute_result"
    }
   ],
   "source": [
    "np.vstack(lstm_X).shape"
   ]
  },
  {
   "cell_type": "code",
   "execution_count": 800,
   "metadata": {
    "collapsed": false
   },
   "outputs": [
    {
     "data": {
      "text/plain": [
       "384.0"
      ]
     },
     "execution_count": 800,
     "metadata": {},
     "output_type": "execute_result"
    }
   ],
   "source": [
    "960/5.*2"
   ]
  },
  {
   "cell_type": "code",
   "execution_count": 50,
   "metadata": {
    "collapsed": false
   },
   "outputs": [],
   "source": [
    "#lstm_labs = [lab[3:] for lab in all_labs]\n",
    "#lstm_X = np.vstack(lstm_inputs_by_speech)\n",
    "#lstm_y = np.hstack([np.hstack(lstm_labs[0:215]),np.hstack(lstm_labs[216:])])"
   ]
  },
  {
   "cell_type": "code",
   "execution_count": 347,
   "metadata": {
    "collapsed": false
   },
   "outputs": [],
   "source": [
    "balanced_x, balanced_y = models.balance(lstm_X,lstm_y)"
   ]
  },
  {
   "cell_type": "code",
   "execution_count": 348,
   "metadata": {
    "collapsed": false
   },
   "outputs": [],
   "source": [
    "balanced_x = np.array(balanced_x)\n",
    "balanced_y = np.array(balanced_y)"
   ]
  },
  {
   "cell_type": "code",
   "execution_count": 349,
   "metadata": {
    "collapsed": false
   },
   "outputs": [],
   "source": [
    "shape = balanced_x.shape\n",
    "balanced_x = balanced_x.reshape((shape[0],shape[2],shape[3]))"
   ]
  },
  {
   "cell_type": "code",
   "execution_count": 350,
   "metadata": {
    "collapsed": true
   },
   "outputs": [],
   "source": [
    "lstm_x_train, lstm_x_test = train_test_split(balanced_x,test_size=0.2, random_state=43)\n",
    "lstm_y_train, lstm_y_test = train_test_split(balanced_y,test_size=0.2, random_state=43)"
   ]
  },
  {
   "cell_type": "code",
   "execution_count": 87,
   "metadata": {
    "collapsed": false
   },
   "outputs": [],
   "source": [
    "#conv_model = models.initialize_conv_model(4800,[6],dropout=0.5)\n",
    "#conv_model.fit(lstm_x_train[:,2:,:],lstm_y_train,batch_size=128,epochs=1)\n",
    "#conv_model.evaluate(lstm_x_test[:,2:,:],lstm_y_test,batch_size=128)"
   ]
  },
  {
   "cell_type": "code",
   "execution_count": 899,
   "metadata": {
    "collapsed": true
   },
   "outputs": [],
   "source": [
    "lstm_model = models.initialize_lstm_model(192,[80,40],bidirectional=False,dropout=0.3)"
   ]
  },
  {
   "cell_type": "code",
   "execution_count": 912,
   "metadata": {
    "collapsed": false,
    "scrolled": true
   },
   "outputs": [
    {
     "name": "stdout",
     "output_type": "stream",
     "text": [
      "Epoch 1/30\n",
      "28974/28974 [==============================] - 13s - loss: 0.5276 - acc: 0.7343    \n",
      "Epoch 2/30\n",
      "28974/28974 [==============================] - 13s - loss: 0.5236 - acc: 0.7379    \n",
      "Epoch 3/30\n",
      "28974/28974 [==============================] - 13s - loss: 0.5216 - acc: 0.7420    \n",
      "Epoch 4/30\n",
      "28974/28974 [==============================] - 13s - loss: 0.5198 - acc: 0.7437    \n",
      "Epoch 5/30\n",
      "28974/28974 [==============================] - 13s - loss: 0.5173 - acc: 0.7440    \n",
      "Epoch 6/30\n",
      "28974/28974 [==============================] - 13s - loss: 0.5209 - acc: 0.7413    \n",
      "Epoch 7/30\n",
      "28974/28974 [==============================] - 13s - loss: 0.5146 - acc: 0.7444    \n",
      "Epoch 8/30\n",
      "28974/28974 [==============================] - 13s - loss: 0.5115 - acc: 0.7460    \n",
      "Epoch 9/30\n",
      "28974/28974 [==============================] - 13s - loss: 0.5127 - acc: 0.7450    \n",
      "Epoch 10/30\n",
      "28974/28974 [==============================] - 13s - loss: 0.5083 - acc: 0.7509    \n",
      "Epoch 11/30\n",
      "28974/28974 [==============================] - 13s - loss: 0.5113 - acc: 0.7445    \n",
      "Epoch 12/30\n",
      "28974/28974 [==============================] - 13s - loss: 0.5054 - acc: 0.7507    \n",
      "Epoch 13/30\n",
      "28974/28974 [==============================] - 13s - loss: 0.5107 - acc: 0.7464    \n",
      "Epoch 14/30\n",
      "28974/28974 [==============================] - 13s - loss: 0.5052 - acc: 0.7516    \n",
      "Epoch 15/30\n",
      "28974/28974 [==============================] - 13s - loss: 0.5028 - acc: 0.7534    \n",
      "Epoch 16/30\n",
      "28974/28974 [==============================] - 13s - loss: 0.5041 - acc: 0.7518    \n",
      "Epoch 17/30\n",
      "28974/28974 [==============================] - 13s - loss: 0.5028 - acc: 0.7533    \n",
      "Epoch 18/30\n",
      "28974/28974 [==============================] - 13s - loss: 0.4994 - acc: 0.7561    \n",
      "Epoch 19/30\n",
      "28974/28974 [==============================] - 13s - loss: 0.5004 - acc: 0.7572    \n",
      "Epoch 20/30\n",
      "28974/28974 [==============================] - 13s - loss: 0.4991 - acc: 0.7563    \n",
      "Epoch 21/30\n",
      "28974/28974 [==============================] - 13s - loss: 0.4949 - acc: 0.7589    \n",
      "Epoch 22/30\n",
      "28974/28974 [==============================] - 13s - loss: 0.4963 - acc: 0.7574    \n",
      "Epoch 23/30\n",
      "28974/28974 [==============================] - 13s - loss: 0.4945 - acc: 0.7586    \n",
      "Epoch 24/30\n",
      "28974/28974 [==============================] - 13s - loss: 0.4964 - acc: 0.7567    \n",
      "Epoch 25/30\n",
      "28974/28974 [==============================] - 13s - loss: 0.4943 - acc: 0.7580    \n",
      "Epoch 26/30\n",
      "28974/28974 [==============================] - 13s - loss: 0.4937 - acc: 0.7581    \n",
      "Epoch 27/30\n",
      "28974/28974 [==============================] - 13s - loss: 0.4941 - acc: 0.7589    \n",
      "Epoch 28/30\n",
      "28974/28974 [==============================] - 13s - loss: 0.4893 - acc: 0.7630    \n",
      "Epoch 29/30\n",
      "28974/28974 [==============================] - 13s - loss: 0.4876 - acc: 0.7622    \n",
      "Epoch 30/30\n",
      "28974/28974 [==============================] - 13s - loss: 0.4843 - acc: 0.7666    \n"
     ]
    },
    {
     "data": {
      "text/plain": [
       "<keras.callbacks.History at 0x7f9e710bbc10>"
      ]
     },
     "execution_count": 912,
     "metadata": {},
     "output_type": "execute_result"
    }
   ],
   "source": [
    "lstm_model.fit(X_train_deltas.reshape(X_train_deltas.shape[0],12,-1),np.array(y_train_deltas),batch_size=128,epochs=30,shuffle=True)"
   ]
  },
  {
   "cell_type": "code",
   "execution_count": 914,
   "metadata": {
    "collapsed": false
   },
   "outputs": [
    {
     "name": "stdout",
     "output_type": "stream",
     "text": [
      "7168/7244 [============================>.] - ETA: 0s"
     ]
    },
    {
     "data": {
      "text/plain": [
       "[0.65942188098508303, 0.70223633387943185]"
      ]
     },
     "execution_count": 914,
     "metadata": {},
     "output_type": "execute_result"
    }
   ],
   "source": [
    "lstm_model.evaluate(X_test_deltas.reshape(X_test_deltas.shape[0],12,-1),np.array(y_test_deltas),batch_size=128)"
   ]
  },
  {
   "cell_type": "code",
   "execution_count": 915,
   "metadata": {
    "collapsed": false
   },
   "outputs": [
    {
     "name": "stdout",
     "output_type": "stream",
     "text": [
      "7200/7244 [============================>.] - ETA: 0sAccuracy: 0.702 +/- 0.011 (5087/7244) | Precision: 0.711 | Recall: 0.693 | F1: 0.702\n"
     ]
    },
    {
     "data": {
      "text/plain": [
       "(0.7022363335173937,\n",
       " 0.71132867132867128,\n",
       " 0.6932933478735005,\n",
       " 0.70219522297390591)"
      ]
     },
     "execution_count": 915,
     "metadata": {},
     "output_type": "execute_result"
    }
   ],
   "source": [
    "models.evaluate_model(lstm_model,X_test_deltas.reshape(X_test_deltas.shape[0],12,-1),np.array(y_test_deltas),model_type='keras')"
   ]
  },
  {
   "cell_type": "code",
   "execution_count": null,
   "metadata": {
    "collapsed": true
   },
   "outputs": [],
   "source": []
  },
  {
   "cell_type": "code",
   "execution_count": 464,
   "metadata": {
    "collapsed": false
   },
   "outputs": [],
   "source": [
    "clf = models.train_cv_logistic_regression(X_train,y_train)"
   ]
  },
  {
   "cell_type": "code",
   "execution_count": null,
   "metadata": {
    "collapsed": true
   },
   "outputs": [],
   "source": [
    "models.evaluate_model(clf,X_test,y_test)"
   ]
  },
  {
   "cell_type": "code",
   "execution_count": 469,
   "metadata": {
    "collapsed": false
   },
   "outputs": [
    {
     "data": {
      "text/plain": [
       "38632"
      ]
     },
     "execution_count": 469,
     "metadata": {},
     "output_type": "execute_result"
    }
   ],
   "source": [
    "(len(X_train) + len(X_test))"
   ]
  },
  {
   "cell_type": "code",
   "execution_count": null,
   "metadata": {
    "collapsed": true
   },
   "outputs": [],
   "source": []
  },
  {
   "cell_type": "code",
   "execution_count": 173,
   "metadata": {
    "collapsed": false
   },
   "outputs": [
    {
     "name": "stdout",
     "output_type": "stream",
     "text": [
      "7168/7727 [==========================>...] - ETA: 0s"
     ]
    },
    {
     "data": {
      "text/plain": [
       "[0.63626607806281155, 0.63905784936282617]"
      ]
     },
     "execution_count": 173,
     "metadata": {},
     "output_type": "execute_result"
    }
   ],
   "source": [
    "model.evaluate(scaler.transform(X_test),y_test,batch_size=128)"
   ]
  },
  {
   "cell_type": "code",
   "execution_count": 175,
   "metadata": {
    "collapsed": false
   },
   "outputs": [
    {
     "name": "stdout",
     "output_type": "stream",
     "text": [
      "7456/7727 [===========================>..] - ETA: 0sAccuracy: 0.639 +/- 0.011 (4938/7727) | Precision: 0.638 | Recall: 0.637 | F1: 0.637\n"
     ]
    },
    {
     "data": {
      "text/plain": [
       "(0.6390578491005565,\n",
       " 0.63787721123829344,\n",
       " 0.63704858404780462,\n",
       " 0.63746262836344736)"
      ]
     },
     "execution_count": 175,
     "metadata": {},
     "output_type": "execute_result"
    }
   ],
   "source": [
    "models.evaluate_model(model,scaler.transform(X_test),y_test,model_type='keras')"
   ]
  },
  {
   "cell_type": "code",
   "execution_count": 111,
   "metadata": {
    "collapsed": false
   },
   "outputs": [
    {
     "name": "stdout",
     "output_type": "stream",
     "text": [
      "7456/7633 [============================>.] - ETA: 0sAccuracy: 0.618 +/- 0.011 (4720/7633) | Precision: 0.641 | Recall: 0.555 | F1: 0.595\n"
     ]
    },
    {
     "data": {
      "text/plain": [
       "(0.6183676143063016,\n",
       " 0.64088729016786572,\n",
       " 0.55489229172073706,\n",
       " 0.59479760745583521)"
      ]
     },
     "execution_count": 111,
     "metadata": {},
     "output_type": "execute_result"
    }
   ],
   "source": [
    "models.evaluate_model(lstm_model,lstm_x_test,lstm_y_test,model_type='keras')"
   ]
  },
  {
   "cell_type": "code",
   "execution_count": null,
   "metadata": {
    "collapsed": true
   },
   "outputs": [],
   "source": []
  }
 ],
 "metadata": {
  "kernelspec": {
   "display_name": "Python 2",
   "language": "python",
   "name": "python2"
  },
  "language_info": {
   "codemirror_mode": {
    "name": "ipython",
    "version": 2
   },
   "file_extension": ".py",
   "mimetype": "text/x-python",
   "name": "python",
   "nbconvert_exporter": "python",
   "pygments_lexer": "ipython2",
   "version": "2.7.6"
  }
 },
 "nbformat": 4,
 "nbformat_minor": 1
}
