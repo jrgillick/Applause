{
 "cells": [
  {
   "cell_type": "code",
   "execution_count": 1,
   "metadata": {
    "collapsed": true
   },
   "outputs": [],
   "source": [
    "import alignment, speech, applause_list, file_loader, text_features,re\n",
    "import json, os, pickle, numpy as np\n",
    "from sklearn.metrics import mean_squared_error\n",
    "from sklearn.metrics import mean_absolute_error\n",
    "from IPython.display import Audio\n",
    "from sklearn.utils import shuffle\n",
    "from sklearn.model_selection import train_test_split\n",
    "from sklearn import linear_model\n",
    "import matplotlib.pyplot as plt\n",
    "from tqdm import tqdm\n",
    "%matplotlib inline"
   ]
  },
  {
   "cell_type": "code",
   "execution_count": 2,
   "metadata": {
    "collapsed": false
   },
   "outputs": [
    {
     "name": "stderr",
     "output_type": "stream",
     "text": [
      "Using TensorFlow backend.\n"
     ]
    }
   ],
   "source": [
    "from keras.models import Sequential\n",
    "from keras.layers import Dense, Activation, Convolution2D, Conv1D, MaxPooling2D, MaxPooling1D, Flatten, Dropout\n",
    "import keras.optimizers\n",
    "from keras.models import load_model\n",
    "import keras.regularizers\n",
    "from keras.regularizers import l2, l1\n",
    "\n",
    "from keras.layers import LSTM\n",
    "from keras.layers import regularizers\n",
    "from keras.layers import Bidirectional"
   ]
  },
  {
   "cell_type": "code",
   "execution_count": 24,
   "metadata": {
    "collapsed": true
   },
   "outputs": [],
   "source": [
    "def initialize_model():\n",
    "    model = Sequential()\n",
    "    model.add(Dense(600, use_bias=True,input_dim=305))#1924\n",
    "    model.add(keras.layers.BatchNormalization())\n",
    "    #model.add(Dropout(0.5))\n",
    "    #model.add(Activation(\"relu\"))\n",
    "    model.add(Dense(50, use_bias=True))\n",
    "    #model.add(keras.layers.BatchNormalization())\n",
    "    #model.add(Dropout(0.5))\n",
    "    model.add(Activation(\"relu\"))\n",
    "    model.add(Dense(1))\n",
    "    model.add(Activation('sigmoid'))\n",
    "    optimizer = keras.optimizers.Adam()\n",
    "    model.compile(optimizer=optimizer,loss='mean_absolute_error',metrics=['mean_absolute_error'])\n",
    "    return model  "
   ]
  },
  {
   "cell_type": "code",
   "execution_count": 131,
   "metadata": {
    "collapsed": true
   },
   "outputs": [],
   "source": [
    "def initialize_lstm_model():\n",
    "    model = Sequential()\n",
    "    model.add(Dropout(0.3,input_shape=(5,305)))\n",
    "    #model.add(Conv1D(6,3,padding='same',input_shape=(5, 305)))\n",
    "    #model.add(keras.layers.BatchNormalization())\n",
    "    #model.add(Activation('relu'))\n",
    "    #model.add(MaxPooling1D(pool_size=3))\n",
    "    #model.add(Conv1D(12,3,padding='same'))\n",
    "    #model.add(keras.layers.BatchNormalization())\n",
    "    #model.add(Activation('relu'))\n",
    "    #model.add(MaxPooling1D(pool_size=3))\n",
    "    #model.add(Flatten())\n",
    "    #model.add(Dense(50))\n",
    "    #model.add(Dropout(0.8))\n",
    "    model.add(LSTM(200,input_shape=(None,305),return_sequences=False,dropout=0.0))\n",
    "    #model.add(Bidirectional(LSTM(30, return_sequences=False, dropout=0.0),input_shape=(None, 305)))\n",
    "    #model.add(Dropout(0.5))\n",
    "    #model.add(Activation(\"relu\"))\n",
    "    #model.add(LSTM(50,return_sequences=False))\n",
    "    #model.add(Dropout(0.5))\n",
    "    #model.add(Activation(\"relu\"))\n",
    "    model.add(Dense(1))\n",
    "    model.add(Activation('sigmoid'))\n",
    "    optimizer = keras.optimizers.Adam()\n",
    "    model.compile(optimizer=optimizer,loss='mean_squared_error',metrics=['mean_absolute_error'])\n",
    "    return model"
   ]
  },
  {
   "cell_type": "code",
   "execution_count": 47,
   "metadata": {
    "collapsed": false
   },
   "outputs": [],
   "source": [
    "def format_lstm_input(sequence_list,lstm_length=5):\n",
    "    formatted_list = []\n",
    "    for i in tqdm(range(lstm_length,len(sequence_list))):\n",
    "        if len(formatted_list) == 0:\n",
    "            formatted_list = [sequence_list[i-lstm_length:i].reshape((1,lstm_length,305))]\n",
    "        else:\n",
    "            formatted_list.append(sequence_list[i-lstm_length:i].reshape((1,lstm_length,305)))\n",
    "    return np.vstack(formatted_list)"
   ]
  },
  {
   "cell_type": "code",
   "execution_count": 132,
   "metadata": {
    "collapsed": true
   },
   "outputs": [],
   "source": [
    "lstm_model = initialize_lstm_model()"
   ]
  },
  {
   "cell_type": "code",
   "execution_count": 107,
   "metadata": {
    "collapsed": true
   },
   "outputs": [],
   "source": [
    "time_series_lstm_model = initialize_lstm_model()"
   ]
  },
  {
   "cell_type": "code",
   "execution_count": 63,
   "metadata": {
    "collapsed": false
   },
   "outputs": [
    {
     "name": "stderr",
     "output_type": "stream",
     "text": [
      "100%|██████████| 693356/693356 [00:00<00:00, 727007.02it/s]\n",
      "100%|██████████| 177165/177165 [00:00<00:00, 768172.38it/s]\n"
     ]
    }
   ],
   "source": [
    "X_input = format_lstm_input(X_train)\n",
    "y_input = y_train[5:]\n",
    "\n",
    "test_X_input = format_lstm_input(X_test)\n",
    "test_y_input = y_test[5:]"
   ]
  },
  {
   "cell_type": "code",
   "execution_count": 64,
   "metadata": {
    "collapsed": false
   },
   "outputs": [
    {
     "data": {
      "text/plain": [
       "(693356, 5, 305)"
      ]
     },
     "execution_count": 64,
     "metadata": {},
     "output_type": "execute_result"
    }
   ],
   "source": [
    "X_input.shape"
   ]
  },
  {
   "cell_type": "code",
   "execution_count": 65,
   "metadata": {
    "collapsed": false
   },
   "outputs": [
    {
     "data": {
      "text/plain": [
       "693356"
      ]
     },
     "execution_count": 65,
     "metadata": {},
     "output_type": "execute_result"
    }
   ],
   "source": [
    "len(y_input)"
   ]
  },
  {
   "cell_type": "code",
   "execution_count": 110,
   "metadata": {
    "collapsed": false
   },
   "outputs": [
    {
     "name": "stdout",
     "output_type": "stream",
     "text": [
      "Epoch 1/1\n",
      "693356/693356 [==============================] - 21s - loss: 0.1443 - mean_absolute_error: 0.1443    \n",
      "177165/177165 [==============================] - 1s     \n"
     ]
    },
    {
     "data": {
      "text/plain": [
       "[0.13296976335753785, 0.13296976369128216]"
      ]
     },
     "execution_count": 110,
     "metadata": {},
     "output_type": "execute_result"
    }
   ],
   "source": [
    "time_series_lstm_model.fit(X_input[:,:,300:],np.array(y_input),batch_size=512,epochs=1)\n",
    "time_series_lstm_model.evaluate(test_X_input[:,:,300:],np.array(test_y_input),batch_size=512)"
   ]
  },
  {
   "cell_type": "code",
   "execution_count": 133,
   "metadata": {
    "collapsed": false
   },
   "outputs": [
    {
     "name": "stdout",
     "output_type": "stream",
     "text": [
      "Epoch 1/1\n",
      "693356/693356 [==============================] - 30s - loss: 0.0608 - mean_absolute_error: 0.1840    \n",
      "175616/177165 [============================>.] - ETA: 0s"
     ]
    },
    {
     "data": {
      "text/plain": [
       "[0.053737277529520358, 0.18031053088868876]"
      ]
     },
     "execution_count": 133,
     "metadata": {},
     "output_type": "execute_result"
    }
   ],
   "source": [
    "lstm_model.fit(X_input,np.array(y_input),batch_size=512,epochs=1)\n",
    "lstm_model.evaluate(test_X_input,np.array(test_y_input),batch_size=512)"
   ]
  },
  {
   "cell_type": "code",
   "execution_count": 91,
   "metadata": {
    "collapsed": false
   },
   "outputs": [],
   "source": [
    "weights = [layer.get_weights() for layer in time_series_lstm_model.layers]\n",
    "weights[1]"
   ]
  },
  {
   "cell_type": "code",
   "execution_count": 284,
   "metadata": {
    "collapsed": true
   },
   "outputs": [],
   "source": [
    "test_X = np.zeros((5000,305))\n",
    "test_y = np.zeros(5000)"
   ]
  },
  {
   "cell_type": "code",
   "execution_count": null,
   "metadata": {
    "collapsed": true
   },
   "outputs": [],
   "source": [
    "np.array(format_lstm_input(test_X)).shape"
   ]
  },
  {
   "cell_type": "code",
   "execution_count": 6,
   "metadata": {
    "collapsed": true
   },
   "outputs": [],
   "source": [
    "def get_preds_and_sents(s,start_index, end_index):\n",
    "    sents = [s.alignment.get_preceding_chars(i) for i in range(start_index,end_index)]\n",
    "    p = preds[start_index:end_index]\n",
    "    return zip(sents, p)"
   ]
  },
  {
   "cell_type": "code",
   "execution_count": 7,
   "metadata": {
    "collapsed": false
   },
   "outputs": [],
   "source": [
    "all_files = file_loader.get_non_duplicate_file_endings()"
   ]
  },
  {
   "cell_type": "code",
   "execution_count": 8,
   "metadata": {
    "collapsed": false,
    "scrolled": true
   },
   "outputs": [
    {
     "name": "stderr",
     "output_type": "stream",
     "text": [
      "100%|██████████| 354/354 [02:09<00:00,  5.64it/s]\n"
     ]
    }
   ],
   "source": [
    "speeches = []\n",
    "for f in tqdm(all_files):\n",
    "    speeches.append(speech.Speech(f))"
   ]
  },
  {
   "cell_type": "code",
   "execution_count": 10,
   "metadata": {
    "collapsed": false
   },
   "outputs": [],
   "source": [
    "train_speeches, test_speeches = train_test_split(speeches,test_size=0.2, random_state=43)"
   ]
  },
  {
   "cell_type": "code",
   "execution_count": 20,
   "metadata": {
    "collapsed": false
   },
   "outputs": [
    {
     "name": "stderr",
     "output_type": "stream",
     "text": [
      "100%|██████████| 283/283 [41:20<00:00,  7.68s/it]\n"
     ]
    }
   ],
   "source": [
    "X = []\n",
    "y = []\n",
    "for s in tqdm(train_speeches):\n",
    "    preds = s.applause_preds_by_second\n",
    "    for i in range(5,len(preds)):\n",
    "        raw_text = s.alignment.get_preceding_chars(i)\n",
    "        if raw_text != '':\n",
    "            tf = text_features.TextFeatures(raw_text)\n",
    "            vec = tf.get_mean_vector(tf.sentences)\n",
    "            lag = preds[i-5:i]\n",
    "            vec = np.hstack([vec,lag])\n",
    "            X.append(vec)\n",
    "            y.append(preds[i])\n",
    "X_train = X; y_train = y"
   ]
  },
  {
   "cell_type": "code",
   "execution_count": 21,
   "metadata": {
    "collapsed": false
   },
   "outputs": [
    {
     "name": "stderr",
     "output_type": "stream",
     "text": [
      "100%|██████████| 71/71 [10:25<00:00,  8.83s/it]\n"
     ]
    }
   ],
   "source": [
    "X = []\n",
    "y = []\n",
    "for s in tqdm(test_speeches):\n",
    "    preds = s.applause_preds_by_second\n",
    "    for i in range(5,len(preds)):\n",
    "        raw_text = s.alignment.get_preceding_chars(i)\n",
    "        if raw_text != '':\n",
    "            tf = text_features.TextFeatures(raw_text)\n",
    "            vec = tf.get_mean_vector(tf.sentences)\n",
    "            lag = preds[i-5:i]\n",
    "            vec = np.hstack([vec,lag])\n",
    "            X.append(vec)\n",
    "            y.append(preds[i])\n",
    "X_test = X; y_test = y"
   ]
  },
  {
   "cell_type": "code",
   "execution_count": 22,
   "metadata": {
    "collapsed": false
   },
   "outputs": [],
   "source": [
    "#with open('/data/corpora/cspan/x_train.pkl','r') as f:\n",
    "#    X_train = pickle.load(f)"
   ]
  },
  {
   "cell_type": "code",
   "execution_count": 23,
   "metadata": {
    "collapsed": false
   },
   "outputs": [],
   "source": [
    "#with open('/data/corpora/cspan/x_test.pkl','r') as f:\n",
    "#    X_test = pickle.load(f)"
   ]
  },
  {
   "cell_type": "code",
   "execution_count": 221,
   "metadata": {
    "collapsed": true
   },
   "outputs": [],
   "source": [
    "model = initialize_model()"
   ]
  },
  {
   "cell_type": "code",
   "execution_count": 224,
   "metadata": {
    "collapsed": false
   },
   "outputs": [
    {
     "name": "stdout",
     "output_type": "stream",
     "text": [
      "Epoch 1/1\n",
      "693361/693361 [==============================] - 30s - loss: 0.2274 - mean_absolute_error: 0.2274    \n"
     ]
    },
    {
     "data": {
      "text/plain": [
       "<keras.callbacks.History at 0x7f8800d5fc90>"
      ]
     },
     "execution_count": 224,
     "metadata": {},
     "output_type": "execute_result"
    }
   ],
   "source": [
    "model.fit(X_train,np.array(y_train),shuffle=True, batch_size=128, epochs=1,verbose=True)"
   ]
  },
  {
   "cell_type": "code",
   "execution_count": 225,
   "metadata": {
    "collapsed": false
   },
   "outputs": [
    {
     "name": "stdout",
     "output_type": "stream",
     "text": [
      "176000/177170 [============================>.] - ETA: 0s"
     ]
    },
    {
     "data": {
      "text/plain": [
       "[0.23995049270861857, 0.23995049255251677]"
      ]
     },
     "execution_count": 225,
     "metadata": {},
     "output_type": "execute_result"
    }
   ],
   "source": [
    "model.evaluate(X_test[:,0:300],np.array(y_test),batch_size=128)"
   ]
  },
  {
   "cell_type": "code",
   "execution_count": 218,
   "metadata": {
    "collapsed": false
   },
   "outputs": [
    {
     "data": {
      "text/plain": [
       "0.099726789"
      ]
     },
     "execution_count": 218,
     "metadata": {},
     "output_type": "execute_result"
    }
   ],
   "source": [
    "np.mean(np.abs(model.predict(X_test,batch_size=256).reshape(np.array(y_test).shape)-np.array(y_test)))"
   ]
  },
  {
   "cell_type": "code",
   "execution_count": 247,
   "metadata": {
    "collapsed": false
   },
   "outputs": [
    {
     "ename": "ValueError",
     "evalue": "cannot reshape array of size 1830 into shape (1,5,305)",
     "output_type": "error",
     "traceback": [
      "\u001b[0;31m---------------------------------------------------------------------------\u001b[0m",
      "\u001b[0;31mValueError\u001b[0m                                Traceback (most recent call last)",
      "\u001b[0;32m<ipython-input-247-a4af54e6e351>\u001b[0m in \u001b[0;36m<module>\u001b[0;34m()\u001b[0m\n\u001b[0;32m----> 1\u001b[0;31m \u001b[0mnp\u001b[0m\u001b[0;34m.\u001b[0m\u001b[0marray\u001b[0m\u001b[0;34m(\u001b[0m\u001b[0mformat_lstm_input\u001b[0m\u001b[0;34m(\u001b[0m\u001b[0mtest_X\u001b[0m\u001b[0;34m)\u001b[0m\u001b[0;34m)\u001b[0m\u001b[0;34m.\u001b[0m\u001b[0mshape\u001b[0m\u001b[0;34m\u001b[0m\u001b[0m\n\u001b[0m",
      "\u001b[0;32m<ipython-input-246-380259340b05>\u001b[0m in \u001b[0;36mformat_lstm_input\u001b[0;34m(sequence_list, lstm_length)\u001b[0m\n\u001b[1;32m      3\u001b[0m     \u001b[0;32mfor\u001b[0m \u001b[0mi\u001b[0m \u001b[0;32min\u001b[0m \u001b[0mrange\u001b[0m\u001b[0;34m(\u001b[0m\u001b[0mlen\u001b[0m\u001b[0;34m(\u001b[0m\u001b[0msequence_list\u001b[0m\u001b[0;34m)\u001b[0m\u001b[0;34m)\u001b[0m\u001b[0;34m:\u001b[0m\u001b[0;34m\u001b[0m\u001b[0m\n\u001b[1;32m      4\u001b[0m         \u001b[0;32mif\u001b[0m \u001b[0mformatted_list\u001b[0m \u001b[0;32mis\u001b[0m \u001b[0mNone\u001b[0m\u001b[0;34m:\u001b[0m\u001b[0;34m\u001b[0m\u001b[0m\n\u001b[0;32m----> 5\u001b[0;31m             \u001b[0mformatted_list\u001b[0m \u001b[0;34m=\u001b[0m \u001b[0msequence_list\u001b[0m\u001b[0;34m[\u001b[0m\u001b[0mi\u001b[0m\u001b[0;34m:\u001b[0m\u001b[0mi\u001b[0m\u001b[0;34m+\u001b[0m\u001b[0;36m6\u001b[0m\u001b[0;34m]\u001b[0m\u001b[0;34m.\u001b[0m\u001b[0mreshape\u001b[0m\u001b[0;34m(\u001b[0m\u001b[0;34m(\u001b[0m\u001b[0;36m1\u001b[0m\u001b[0;34m,\u001b[0m\u001b[0;36m5\u001b[0m\u001b[0;34m,\u001b[0m\u001b[0;36m305\u001b[0m\u001b[0;34m)\u001b[0m\u001b[0;34m)\u001b[0m\u001b[0;34m\u001b[0m\u001b[0m\n\u001b[0m\u001b[1;32m      6\u001b[0m         \u001b[0;32melse\u001b[0m\u001b[0;34m:\u001b[0m\u001b[0;34m\u001b[0m\u001b[0m\n\u001b[1;32m      7\u001b[0m             \u001b[0mformatted_list\u001b[0m \u001b[0;34m=\u001b[0m \u001b[0mnp\u001b[0m\u001b[0;34m.\u001b[0m\u001b[0mvstack\u001b[0m\u001b[0;34m(\u001b[0m\u001b[0;34m[\u001b[0m\u001b[0mformatted_list\u001b[0m\u001b[0;34m,\u001b[0m\u001b[0;34m(\u001b[0m\u001b[0msequence_list\u001b[0m\u001b[0;34m[\u001b[0m\u001b[0mi\u001b[0m\u001b[0;34m:\u001b[0m\u001b[0mi\u001b[0m\u001b[0;34m+\u001b[0m\u001b[0;36m6\u001b[0m\u001b[0;34m]\u001b[0m\u001b[0;34m.\u001b[0m\u001b[0mreshape\u001b[0m\u001b[0;34m(\u001b[0m\u001b[0;34m(\u001b[0m\u001b[0;36m1\u001b[0m\u001b[0;34m,\u001b[0m\u001b[0;36m5\u001b[0m\u001b[0;34m,\u001b[0m\u001b[0;36m305\u001b[0m\u001b[0;34m)\u001b[0m\u001b[0;34m)\u001b[0m\u001b[0;34m)\u001b[0m\u001b[0;34m]\u001b[0m\u001b[0;34m)\u001b[0m\u001b[0;34m\u001b[0m\u001b[0m\n",
      "\u001b[0;31mValueError\u001b[0m: cannot reshape array of size 1830 into shape (1,5,305)"
     ]
    }
   ],
   "source": []
  },
  {
   "cell_type": "code",
   "execution_count": 248,
   "metadata": {
    "collapsed": false
   },
   "outputs": [
    {
     "data": {
      "text/plain": [
       "1525"
      ]
     },
     "execution_count": 248,
     "metadata": {},
     "output_type": "execute_result"
    }
   ],
   "source": [
    "5*305"
   ]
  },
  {
   "cell_type": "code",
   "execution_count": 156,
   "metadata": {
    "collapsed": false
   },
   "outputs": [],
   "source": [
    "X_train=np.array(X_train)\n",
    "X_test = np.array(X_test)"
   ]
  },
  {
   "cell_type": "code",
   "execution_count": null,
   "metadata": {
    "collapsed": true
   },
   "outputs": [],
   "source": [
    "np.array(X_train)[:,-5:].shape"
   ]
  },
  {
   "cell_type": "code",
   "execution_count": 166,
   "metadata": {
    "collapsed": false
   },
   "outputs": [
    {
     "name": "stdout",
     "output_type": "stream",
     "text": [
      "error: 0.112042740888\n",
      "\n",
      "Coefficients: [ 0.00239686 -0.01917981  0.011392   -0.01185767  0.85748204]\n"
     ]
    }
   ],
   "source": [
    "clf=linear_model.Ridge(alpha=0)\n",
    "clf.fit(X_train,y_train)\n",
    "linreg_preds = clf.predict(X_test)\n",
    "error = mean_absolute_error(linreg_preds, y_test)\n",
    "print \"error: %s\\n\" % error\n",
    "print \"Coefficients: \" + str(clf.coef_[-5:])"
   ]
  },
  {
   "cell_type": "code",
   "execution_count": 404,
   "metadata": {
    "collapsed": false
   },
   "outputs": [
    {
     "data": {
      "image/png": "[encoded data removed]",
      "text/plain": [
       "<matplotlib.figure.Figure at 0x7f88048405d0>"
      ]
     },
     "metadata": {},
     "output_type": "display_data"
    }
   ],
   "source": [
    "start = 500\n",
    "end = start+50\n",
    "plt.plot(y_test[start:end], color='green')\n",
    "plt.plot(linreg_preds[start:end], color = 'blue')\n",
    "plt.show()"
   ]
  },
  {
   "cell_type": "code",
   "execution_count": 428,
   "metadata": {
    "collapsed": false
   },
   "outputs": [],
   "source": [
    "lstm_model_preds = lstm_model.predict(test_X_input)\n",
    "time_series_lstm_preds = time_series_lstm_model.predict(test_X_input[:,:,300:])"
   ]
  },
  {
   "cell_type": "code",
   "execution_count": 433,
   "metadata": {
    "collapsed": false
   },
   "outputs": [
    {
     "data": {
      "image/png": "[encoded data removed]",
      "text/plain": [
       "<matplotlib.figure.Figure at 0x7f88046daa10>"
      ]
     },
     "metadata": {},
     "output_type": "display_data"
    }
   ],
   "source": [
    "start = 1700\n",
    "end = start + 50\n",
    "plt.plot(test_y_input[start:end], color='green')\n",
    "plt.plot(lstm_model_preds[start:end], color = 'blue')\n",
    "plt.plot(time_series_lstm_preds[start:end], color = 'purple')\n",
    "plt.show()"
   ]
  },
  {
   "cell_type": "code",
   "execution_count": null,
   "metadata": {
    "collapsed": true
   },
   "outputs": [],
   "source": []
  },
  {
   "cell_type": "code",
   "execution_count": 30,
   "metadata": {
    "collapsed": false
   },
   "outputs": [
    {
     "data": {
      "text/plain": [
       "u\"and three months ago it was my high honor to accept my party's nomination to run and in just one day to have the opportunity to serve as the next vice president of the United States the was. And I want to thank my friend Congressman Frank into. I want\""
      ]
     },
     "execution_count": 30,
     "metadata": {},
     "output_type": "execute_result"
    }
   ],
   "source": [
    "\n",
    "\n",
    "raw_text = s.alignment.get_preceding_chars(79)\n",
    "raw_text"
   ]
  },
  {
   "cell_type": "code",
   "execution_count": 48,
   "metadata": {
    "collapsed": false
   },
   "outputs": [
    {
     "data": {
      "text/plain": [
       "[u\"and  three  months  ago  it  was  my  high  honor  to  accept  my  party 's  nomination  to  run  and  in  just  one  day  to  have  the  opportunity  to  serve  as  the  next  vice  president  of  the  United  States  the  was . \",\n",
       " u'And  I  want  to  thank  my  friend  Congressman  Frank  into . ',\n",
       " u'I  want']"
      ]
     },
     "execution_count": 48,
     "metadata": {},
     "output_type": "execute_result"
    }
   ],
   "source": [
    "tf = text_features.TextFeatures(raw_text)\n",
    "tf.sentences"
   ]
  },
  {
   "cell_type": "code",
   "execution_count": 20,
   "metadata": {
    "collapsed": false
   },
   "outputs": [],
   "source": [
    "import numpy as np, re, spacy\n",
    "nlp = spacy.load('en')"
   ]
  },
  {
   "cell_type": "code",
   "execution_count": 59,
   "metadata": {
    "collapsed": false
   },
   "outputs": [
    {
     "data": {
      "text/plain": [
       "(300,)"
      ]
     },
     "execution_count": 59,
     "metadata": {},
     "output_type": "execute_result"
    }
   ],
   "source": [
    "np.mean(np.array([nlp(sent).vector for sent in tf.sentences]),axis=0)"
   ]
  },
  {
   "cell_type": "code",
   "execution_count": null,
   "metadata": {
    "collapsed": true
   },
   "outputs": [],
   "source": []
  },
  {
   "cell_type": "code",
   "execution_count": 51,
   "metadata": {
    "collapsed": false
   },
   "outputs": [
    {
     "data": {
      "text/plain": [
       "array([  2.50853989e-02,   5.58765382e-02,  -1.10743772e-02,\n",
       "        -1.68480892e-02,   6.12825491e-02,  -4.88266870e-02,\n",
       "        -4.16259728e-02,   1.35906762e-03,   2.14037057e-02,\n",
       "         1.32676375e+00,  -1.01865567e-01,  -2.14839145e-03,\n",
       "         4.68341112e-02,  -2.86373850e-02,  -6.80278987e-02,\n",
       "        -4.84908484e-02,  -5.66921234e-02,   5.16139030e-01,\n",
       "        -8.59587267e-02,   1.77103654e-02,  -3.41125811e-03,\n",
       "        -4.55646515e-02,  -3.39471437e-02,  -7.64499838e-03,\n",
       "        -1.80700012e-02,   2.78469529e-02,  -7.56080151e-02,\n",
       "        -1.82580911e-02,  -2.37098988e-02,   3.11631877e-02,\n",
       "         3.14707011e-02,   8.14324692e-02,  -3.12258909e-03,\n",
       "         4.61970791e-02,   2.44393237e-02,  -4.40632664e-02,\n",
       "        -1.97279043e-02,  -1.84566416e-02,  -3.52335051e-02,\n",
       "        -3.21370810e-02,   3.31807323e-03,   5.58771640e-02,\n",
       "         9.82258562e-03,  -7.07367212e-02,   4.12488393e-02,\n",
       "         1.87425260e-02,  -6.01787120e-02,   6.94476301e-03,\n",
       "         1.95381884e-03,  -2.40166634e-02,  -1.82237122e-02,\n",
       "         1.16104726e-02,   2.19615619e-03,  -2.59561874e-02,\n",
       "         5.62180169e-02,   4.96591395e-03,  -3.79633941e-02,\n",
       "         4.44470090e-04,  -1.27251935e-03,  -5.73138334e-02,\n",
       "        -6.90934388e-03,   6.21350249e-03,  -2.19215211e-02,\n",
       "         9.86932069e-02,   1.90348588e-02,  -1.20453127e-02,\n",
       "        -9.79433395e-03,   1.14193419e-03,   1.69805046e-02,\n",
       "         5.40231839e-02,   4.08235267e-02,   6.15746155e-02,\n",
       "         6.32939860e-02,   7.80914724e-03,   5.27712516e-02,\n",
       "         2.68188827e-02,   3.80886309e-02,  -1.41821606e-02,\n",
       "        -2.05733404e-02,   6.06921427e-02,  -2.28628311e-02,\n",
       "         6.11079521e-02,  -9.39411446e-02,   2.25885160e-04,\n",
       "         6.95859455e-03,  -1.12750955e-01,  -1.07124925e-01,\n",
       "        -6.75599948e-02,   1.13655142e-01,  -9.30118281e-03,\n",
       "        -5.94465993e-02,  -1.56081477e-02,  -1.15948748e-02,\n",
       "         6.25934452e-03,   4.62406203e-02,   6.66567590e-03,\n",
       "         2.91489065e-02,  -3.80577967e-02,   2.51902509e-02,\n",
       "        -1.19712967e-02,  -7.67909456e-04,   2.60200370e-02,\n",
       "        -1.74003951e-02,  -6.68837596e-03,   1.25663662e-02,\n",
       "        -3.04134727e-01,   1.03234418e-01,   1.66505799e-02,\n",
       "         6.53714463e-02,  -3.96971591e-02,   2.50376966e-02,\n",
       "        -7.20163286e-02,   2.74684709e-02,  -1.69642866e-02,\n",
       "         2.93502957e-02,  -3.82187814e-02,   2.61217840e-02,\n",
       "         2.76402105e-02,  -1.46391718e-02,   1.62183177e-02,\n",
       "         5.50218374e-02,  -3.21384668e-02,  -1.95865482e-02,\n",
       "         4.03981172e-02,  -2.41340380e-02,   5.10760881e-02,\n",
       "        -2.57978309e-02,  -4.11893502e-02,  -2.24194117e-02,\n",
       "         3.24286409e-02,  -3.61763909e-02,   1.82460574e-03,\n",
       "        -4.32516709e-02,   2.16018371e-02,   2.51211934e-02,\n",
       "        -3.01728956e-02,   2.29851585e-02,   7.68983364e-02,\n",
       "        -6.36874326e-03,   1.89750746e-03,  -5.75435281e-01,\n",
       "        -8.06830265e-03,   4.45081294e-02,   4.75298660e-03,\n",
       "         4.84065190e-02,  -7.25909742e-03,  -4.36879657e-02,\n",
       "         1.87247396e-02,  -1.14381174e-02,  -5.04592396e-02,\n",
       "        -5.19073941e-02,   7.08548119e-03,   4.51160520e-02,\n",
       "         9.70622431e-03,  -3.39598097e-02,  -4.98744436e-02,\n",
       "        -4.15687487e-02,   2.71464456e-02,  -3.21647115e-02,\n",
       "        -5.27411141e-02,  -3.80120724e-02,   3.07427235e-02,\n",
       "        -4.72998619e-03,  -1.23904152e-02,  -5.88235669e-02,\n",
       "        -9.45758820e-02,   5.96114397e-02,  -2.27000061e-02,\n",
       "         1.26551002e-01,   1.93376187e-02,   1.33708222e-02,\n",
       "        -2.10937615e-02,   6.34967387e-02,  -4.98178415e-02,\n",
       "        -7.58069009e-02,   1.31202377e-02,  -5.80836972e-03,\n",
       "        -2.00483836e-02,  -9.09134932e-03,   1.20972842e-02,\n",
       "         2.29658652e-02,  -4.42601927e-02,  -7.75252581e-02,\n",
       "        -5.38556986e-02,  -4.31212876e-03,   2.82388199e-02,\n",
       "        -3.96105051e-02,  -3.02404147e-02,   2.09466387e-02,\n",
       "         3.53293903e-02,  -3.06167193e-02,  -7.89468735e-03,\n",
       "        -5.06233908e-02,   3.15541029e-02,   6.87067956e-02,\n",
       "         1.02621309e-01,  -1.41915437e-02,  -5.08623384e-02,\n",
       "        -4.64820750e-02,   5.42076603e-02,  -2.75739562e-02,\n",
       "        -1.42886154e-02,  -5.85166067e-02,  -8.34883191e-03,\n",
       "         1.52280211e-01,   3.16708572e-02,   3.12117822e-02,\n",
       "        -8.28190334e-03,   3.07533834e-02,   1.56850796e-02,\n",
       "        -5.75229339e-02,  -1.54278167e-02,  -2.89682169e-02,\n",
       "        -6.75053000e-02,   1.33535983e-02,   8.80372822e-02,\n",
       "        -3.35754231e-02,  -3.84367481e-02,  -7.74051249e-02,\n",
       "         2.36937683e-02,  -5.09588197e-02,  -4.22864407e-02,\n",
       "        -3.39830779e-02,   1.89115144e-02,  -2.60972288e-02,\n",
       "        -4.60758060e-03,   2.42051557e-02,   4.70505878e-02,\n",
       "        -2.96845566e-02,   5.70790991e-02,  -6.50990829e-02,\n",
       "         8.10871646e-03,   2.62328982e-02,   8.10106173e-02,\n",
       "        -4.20652814e-02,  -6.41654283e-02,  -3.10964920e-02,\n",
       "        -4.42852527e-02,  -1.72578190e-02,   4.90071364e-02,\n",
       "         2.28609405e-02,   6.87477272e-03,   5.20255491e-02,\n",
       "         8.62959176e-02,   7.48429149e-02,  -9.74719897e-02,\n",
       "        -4.10785526e-02,  -2.86776088e-02,  -1.01013973e-01,\n",
       "        -5.44093177e-03,   5.28763002e-03,   4.15022019e-03,\n",
       "        -7.64105516e-03,  -1.48452399e-02,   3.97106521e-02,\n",
       "         1.25350431e-01,   3.98867205e-02,  -1.71175320e-02,\n",
       "        -5.18076867e-02,   3.32168362e-04,   6.86938614e-02,\n",
       "         9.15260166e-02,  -5.43899648e-02,   6.11664839e-02,\n",
       "         8.14691465e-03,  -8.14343914e-02,  -5.07170102e-04,\n",
       "        -1.06580239e-02,   1.33456230e-01,  -3.88132669e-02,\n",
       "         1.22610390e-01,  -8.17803812e-05,  -5.94450422e-02,\n",
       "        -5.89151010e-02,  -2.83444952e-02,  -1.20074172e-02,\n",
       "        -9.62506700e-03,   6.89686835e-02,   4.83354256e-02,\n",
       "         6.59995750e-02,   7.90956020e-02,   3.24227363e-02,\n",
       "        -4.39469181e-02,   1.52763641e-02,  -5.69005311e-02,\n",
       "        -5.98380230e-02,   6.34700432e-02,  -3.79462168e-02,\n",
       "         6.72563761e-02,   1.21787945e-02,  -8.68605822e-02,\n",
       "         4.61137928e-02,   5.67714088e-02,  -3.01641617e-02,\n",
       "        -1.43630411e-02,  -5.00459075e-02,   1.87323354e-02,\n",
       "        -2.50485400e-03,  -1.39058530e-02,   2.07748637e-02], dtype=float32)"
      ]
     },
     "execution_count": 51,
     "metadata": {},
     "output_type": "execute_result"
    }
   ],
   "source": [
    "n.vector"
   ]
  },
  {
   "cell_type": "code",
   "execution_count": 135,
   "metadata": {
    "collapsed": false
   },
   "outputs": [],
   "source": [
    "st = ' '.join(s.alignment.get_preceding_aligned_words(1800))"
   ]
  },
  {
   "cell_type": "code",
   "execution_count": 136,
   "metadata": {
    "collapsed": false
   },
   "outputs": [
    {
     "data": {
      "text/plain": [
       "[u\"it 's  great  to  be  back  here  i  remind  you  one  of  the  things  said  four  years  ago  was n't  that  big  of  an  issue  four  years  ago  commander  in  chief  is  not  an  entry  level  position  you  have  a  lot  of  wonderful  people  on  this  stage  but  very  few  of  them  very  few  them  have  the  experience\"]"
      ]
     },
     "execution_count": 136,
     "metadata": {},
     "output_type": "execute_result"
    }
   ],
   "source": [
    "tf = text_features.TextFeatures(st)\n",
    "tf.sentences"
   ]
  },
  {
   "cell_type": "code",
   "execution_count": null,
   "metadata": {
    "collapsed": true
   },
   "outputs": [],
   "source": []
  }
 ],
 "metadata": {
  "kernelspec": {
   "display_name": "Python 2",
   "language": "python",
   "name": "python2"
  },
  "language_info": {
   "codemirror_mode": {
    "name": "ipython",
    "version": 2
   },
   "file_extension": ".py",
   "mimetype": "text/x-python",
   "name": "python",
   "nbconvert_exporter": "python",
   "pygments_lexer": "ipython2",
   "version": "2.7.6"
  }
 },
 "nbformat": 4,
 "nbformat_minor": 1
}
