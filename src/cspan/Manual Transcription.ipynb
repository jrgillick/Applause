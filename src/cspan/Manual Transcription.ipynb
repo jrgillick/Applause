{
 "cells": [
  {
   "cell_type": "code",
   "execution_count": 2,
   "metadata": {
    "collapsed": false
   },
   "outputs": [
    {
     "name": "stderr",
     "output_type": "stream",
     "text": [
      "Using cuDNN version 5105 on context None\n",
      "Mapped name None to device cuda: Tesla K40c (0000:02:00.0)\n"
     ]
    },
    {
     "name": "stdout",
     "output_type": "stream",
     "text": [
      "Loading model parameters...\n",
      "Compiling encoders...\n",
      "Loading tables...\n",
      "Packing up...\n"
     ]
    }
   ],
   "source": [
    "import sys\n",
    "import subprocess\n",
    "sys.path.insert(0, 'core')\n",
    "from IPython.display import Audio\n",
    "import speech"
   ]
  },
  {
   "cell_type": "code",
   "execution_count": 1,
   "metadata": {
    "collapsed": true
   },
   "outputs": [],
   "source": [
    "annotation_speeches = ['donald_trump/donald_trump_116',\n",
    " 'bernie_sanders/bernie_sanders_25',\n",
    " 'hilary_clinton/hilary_clinton_79',\n",
    " 'jeb_bush/jeb_bush_4',\n",
    " 'ted_cruz/ted_cruz_16']"
   ]
  },
  {
   "cell_type": "code",
   "execution_count": 3,
   "metadata": {
    "collapsed": true
   },
   "outputs": [],
   "source": [
    "trump_speech = speech.Speech('donald_trump_116')\n",
    "bernie_speech = speech.Speech('bernie_sanders_25')\n",
    "hilary_speech = speech.Speech('hilary_clinton_79')\n",
    "jeb_speech = speech.Speech('jeb_bush_4')\n",
    "cruz_speech = speech.Speech('ted_cruz_16')"
   ]
  },
  {
   "cell_type": "code",
   "execution_count": null,
   "metadata": {
    "collapsed": false
   },
   "outputs": [],
   "source": []
  },
  {
   "cell_type": "code",
   "execution_count": 4,
   "metadata": {
    "collapsed": false
   },
   "outputs": [],
   "source": [
    "trump_116_captions = \" \".join([w['word'] for i,w in enumerate(trump_speech.alignment.words[1:420])])"
   ]
  },
  {
   "cell_type": "code",
   "execution_count": 5,
   "metadata": {
    "collapsed": false
   },
   "outputs": [],
   "source": [
    "bernie_25_captions = \" \".join([w['word'] for i,w in enumerate(bernie_speech.alignment.words[0:197])])"
   ]
  },
  {
   "cell_type": "code",
   "execution_count": 6,
   "metadata": {
    "collapsed": false
   },
   "outputs": [],
   "source": [
    "hilary_79_captions = \" \".join([w['word'] for i,w in enumerate(hilary_speech.alignment.words[4:355])])"
   ]
  },
  {
   "cell_type": "code",
   "execution_count": 7,
   "metadata": {
    "collapsed": false
   },
   "outputs": [],
   "source": [
    "jeb_4_captions = \" \".join([w['word'] for i,w in enumerate(jeb_speech.alignment.words[521:939])])"
   ]
  },
  {
   "cell_type": "code",
   "execution_count": 8,
   "metadata": {
    "collapsed": false
   },
   "outputs": [],
   "source": [
    "cruz_16_captions = \" \".join([w['word'] for i,w in enumerate(cruz_speech.alignment.words[0:498])])"
   ]
  },
  {
   "cell_type": "code",
   "execution_count": null,
   "metadata": {
    "collapsed": false
   },
   "outputs": [],
   "source": []
  },
  {
   "cell_type": "code",
   "execution_count": null,
   "metadata": {
    "collapsed": true
   },
   "outputs": [],
   "source": []
  },
  {
   "cell_type": "code",
   "execution_count": 9,
   "metadata": {
    "collapsed": false
   },
   "outputs": [],
   "source": [
    "#Trump_116\n",
    "#(30,297) #start at 30 seconds, end at 4:\n",
    "trump_16_text = [\"Wow\",\n",
    "\"Thank you thank you so much\",\n",
    "\"Thank you. We start by paying our great respects to Pearl Harbor.\",\n",
    "\"We don't want that stuff, we don't want World Trade Centers, we don't want that ever happening to us again. It's not going to happen to us again.\",\n",
    "\"So I want to thank everybody for being here. It's a great honor. They have thousands of people outside.\",\n",
    "\"And sometimes they'll say would you like to wait about an hour until they all come in but we can't get them in anyway so what difference.\",\n",
    "\"We all got lucky we're together tonight.\",\n",
    "\"Thank you.\",\n",
    "\"So we had a lot of big news today, to me very big was CNN just came out with a new poll about an hour ago in Iowa. Great great state. And in Iowa Trump, 33 percent.\",\n",
    "\"Beating everybody by a lot. You have Cruz at 20 and Carson at 16 and going down and Rubio at 11 and Bush at 4.\",\n",
    "\"But it's Trump at 33 just came out. That's Iowa. We love Iowa.\",\n",
    "\"By the way great ship named after Iowa too right. I've been on that one too.\",\n",
    "\"A really great one.\",\n",
    "\"The other big poll that came out just 2 days ago was the national poll.\",\n",
    "\"Trump 36 and then I won't even mention the other numbers cause they're so low.\",\n",
    "\"You know when you have when you have so many people running.\",\n",
    "\"We had 17 and then they started to drop bing bing.\",\n",
    "\"I love it\",\n",
    "\"I love it\",\n",
    "\"And you'll be losing a lot over the next little while I would imagine.\",\n",
    "\"I don't know when somebody is down at 0 I would think that eventually they'll drop out.\",\n",
    "\"The only problem is there's nothing to pick up if they're a zero alright what do you pick up.\",\n",
    "\"So anyway but you'll be seing that\",\n",
    "\"One of the things I think so important because to me very important\",\n",
    "\"In the same poll which is the big national CNN poll\",\n",
    "\"On the economy so important Trump 55 percent everyone else nothin\",\n",
    "\"On the budget\",\n",
    "\"I'm really good at these things economy budget so I sort of expected this\",\n",
    "\"On the budget Trump this is with 15 people remaining Trump 51 percent everyone else bing.\",\n",
    "\"Oh here's one that I started and I took a lot of heat. I took a lot of heat\",\n",
    "\"Sort of like the one we're talking about today I guess you've heard a little bit about it\",\n",
    "\"But I've taken a lot of heat on this one\",\n",
    "\"Illegal immigration\",\n",
    "\"Now had I not brought that up in Trump tower in June when I announced that I was going to run for president\",\n",
    "\"Which takes courage to run for president believe me\",\n",
    "\"You know all of my life I've heard that if you're a successful person\",\n",
    "\"Especially if you're very succesful you've done a lot of things a lot of deals a lot of everything\",\n",
    "\"You can't run for president\",\n",
    "\"And yet that's the kind of mindset and thinking this country needs\",\n",
    "\"We're being run by people that don't know what they're doing\",\n",
    "\"Very sad\",\n",
    "\"On illegal immigration Trump 48 percent that's with 15 people\",\n",
    "\"Everyone else no good\",\n",
    "\"On a thing called ISIS\",\n",
    "\"You ever know\",\n",
    "\"ISIS oh don't worry we have plenty we'll talk a lot about ISIS\",\n",
    "\"Can you believe it\",\n",
    "\"Here we have generals they go on television and talk\",\n",
    "\"They do all talk\",\n",
    "\"You people a lot of military people here\",\n",
    "\"Who is military here\",\n",
    "\"Alright I love you\",\n",
    "\"By the way speaking of it we're going to make our military so strong so powerful so great nobody is ever gonna mess with us again\",\n",
    "\"Nobody\",\n",
    "\"They're never gonna mess with us\",\n",
    "\"You know in many ways it's the cheapest thing we can do\",\n",
    "\"It's the cheapest thing\",\n",
    "\"Instead of fighting these wars that we don't know what we're doing and we have leaders that are afraid to do anything\"\n",
    " ]"
   ]
  },
  {
   "cell_type": "code",
   "execution_count": 10,
   "metadata": {
    "collapsed": false
   },
   "outputs": [],
   "source": [
    "#Bernie_25\n",
    "#15:52\n",
    "bernie_25_text = [\"Thank you.\",\n",
    "\"Thank you all. What an enormous turnout tonight. Thank you.\",\n",
    "\"And let me apologize to the thousands of people who are waiting online to get in.\",\n",
    "\"We're gonna get you in as soon as we can.\",\n",
    "\"Let me thank Dawn Finn, Alex Han, and  and Vampire Weekend.\",\n",
    "\"Let me thank Jonathan Jackson. Let me thank Julie Garcia.\",\n",
    "\"You know why we’re gonna win this election?\",\n",
    "\"We're gonna win this election because the American people are sick and tired of establishment politics.\",\n",
    "\"They are sick and tired of establishment economics. And it's truly just said all across this country.\",\n",
    "\"What people are saying is we demand a government that represents all of us, and not just a handful of billionaire campaign contributors.\",\n",
    "\"What this campaign is about is bringing our people together.\",\n",
    "\"Not letting Donald Trump or anybody else divide our\", #[] 20:10.\n",
    "\"No, we are not gonna hate Mexicans, we are not gonna hate Muslims\",\n",
    "\"we are not gonna insult women, we are not gonna insult veterans\",\n",
    "\"we re not gonna insult African Americans. We are gonna bring our people together to make sure\", #CROWD CHANTS BERNIE,\n",
    "\"United States of America today is the wealthiest country in the history of the world\",\n",
    "\"but very few people know it.\",\n",
    "\"And the reason they don't know it is because people in Illinois and Vermont and all over this country are working longer hours for lower wages.\",\n",
    "\"People are working two or three jobs, trying to cobble together some income and some healthcare.\",\n",
    "\"And then we end up with a situation in which the top one tenth of 1 percent now owns\",\n",
    "\"more wealth than the bottom 90 percent.\",\n",
    "\"And you know what people are saying?\",\n",
    "\"They re saying enough is enough\"]"
   ]
  },
  {
   "cell_type": "code",
   "execution_count": 11,
   "metadata": {
    "collapsed": false
   },
   "outputs": [],
   "source": [
    "#Hilary_79\n",
    "#1:42\n",
    "hilary_79_text = [\"Thank you. Thank you so much.\",\n",
    "\"You know, I am so, so thrilled, and so grateful to all of my supporters out there.\",\n",
    "\"Some may have doubted us, but we never doubted each other.\",\n",
    "\"And this one's for you.\",\n",
    "\"I want to congratulate Senator Sanders in a hard fought race here.\",\n",
    "\"And I want to thank each and every one of you.\",\n",
    "\"You turned out in every corner of this state with determination and purpose.\",\n",
    "\"Hotel and casino workers who never wavered.\",\n",
    "\"Students with too much debt and small business owners who never go off the clock.\",\n",
    "\"Tens of thousands of men and women with kids to raise, bills to pay, and dreams that won't die.\",\n",
    "\"This is your campaign.\",\n",
    "\"And it is it is a campaign to break down every barrier that holds you back.\",\n",
    "\"We’re going to build ladders of opportunity in their place, so every American can go as far as your hard work can take you.\",\n",
    "\"And to the thousands of volunteers and organizers that worked so hard in this state.\",\n",
    "\"To the more than 750 thousands of people have gone to hillaryclinton.com\",\n",
    "\"and contributed what you could, the vast majority giving less than one hundred dollars.\",\n",
    "\"And to the millions of people across our country who are supporting our campaign.\",\n",
    "\"Thank you from the bottom of my heart.\",\n",
    "\"We hear you, we see you. We're incredibly grateful to you, because we're in this together.\",\n",
    "\"We look at our country and see so much that isn't working the way it should.\",\n",
    "\"We see grandparents forced to choose between paying rent and buying medicine\",\n",
    "\"because a prescription drug company has increased prices 5000 percent overnight.\",\n",
    "\"We see African American families denied mortgages at nearly three times the rate of white families.\",\n",
    "\"We see small towns and rural communities hollowed out by lost jobs and lost hope.\",\n",
    "\"We see a rising generation of young people coming of age in a world where opportunity seems out of reach.\",\n",
    "\"And worst of all, we see children growing up in poverty, pain, or fear.\",\n",
    "\"Here in Nevada, a brave young girl told me how scared she is, that her parents could be deported.\"]"
   ]
  },
  {
   "cell_type": "code",
   "execution_count": 12,
   "metadata": {
    "collapsed": false
   },
   "outputs": [],
   "source": [
    "#jeb_4\n",
    "#9:40\n",
    "jeb_4_text = [\"Thank you, mama. Thank you all. Thank you.\",\n",
    "\"You can sit. Everybody can sit. Thank you all very much. Uh, Wow.\",\n",
    "\"Mom, my crowd sizes normally aren't this large. I wonder why.\",\n",
    "\"It is a it is such a joy to be with friends, to be with my mother, who I adore, who is an inspiration.\",\n",
    "\"I can not tell you in the probably 90 versions of town hall meetings I’ve done, all across this state\",\n",
    "\"how many times people came up to tell me, 'Your mother. I love your mother, I love your mother'\",\n",
    "\"just over and over again.\",\n",
    "\"She's not as great as everybody thinks she is, I can just tell you that.\",\n",
    "\"I jokingly say that when we were growing up in Midland and Houston\",\n",
    "\"that mom was fortunate enough to not have a child abuse hotline available\",\n",
    "\"because the discipline of learning right and wrong was her doing.\",\n",
    "\"My dad was this perfect idyllic man, who till this day is the greatest man alive.\",\n",
    "\"But she was the one who taught us right and wrong, I can promise you that, and it's worked out pretty good.\",\n",
    "\"All the mistakes I’ve made have been my own doing, I can tell you that.\",\n",
    "\"And it is a delight to be with you all.\",\n",
    "\"To Kathy and Judd Greg, thank you for your leadership in this state.\",\n",
    "\"This is really the first family of New Hampshire.\",\n",
    "\"You think about, you think about the people that run through the challenge, or the people that cut and run.\",\n",
    "\"You can basically divide politicians up in those two camps.\",\n",
    "\"Judd Greg is not a cut and run guy, is he?\",\n",
    "\"He served to solve problems, and he did just that\",\n",
    "\"and if he can find a way to create a bipartisan consensus to fix something he would do it.\",\n",
    "\"And he like others made a difference in improving the quality of life of people here in New Hampshire and in the country.\",\n",
    "\"And we need to restore that sense of problem solving in Washington D.C. again.\",\n",
    "\"So Judd, I thank you for your leadership.\",\n",
    "\"Because we do need someone who actually has had some experience.\",\n",
    "\"Eight years ago, last Monday, Barack Obama won the Iowa caucuses.\",\n",
    "\"I don't know where you were, but I was at home watching it with Calumba and I was going wow, this guy can bring it.\",\n",
    "\"He can give, he can deliver a speech. It was inspirational.\",\n",
    "\"Look, I'm a conservative. A committed conservative my whole adult life\",\n",
    "\"but he spoke no red states no blue states, only the United States of America.\",\n",
    "\"It was inspirational, and he won.\"]"
   ]
  },
  {
   "cell_type": "code",
   "execution_count": 13,
   "metadata": {
    "collapsed": true
   },
   "outputs": [],
   "source": [
    "#Cruz_16\n",
    "#(1040, 1350)\n",
    "cruz_16_text=[\"God bless the great state of Nevada\",\n",
    "\"What an incredible team we have here on the ground\",\n",
    "\"I wanna thank our Nevada state chairman attorney general Adam Laxall\",\n",
    "\"A tremendous strong principled constitutionalist conservative\",\n",
    "\"When he ran for attorney general all the political establishment was against him he wasn't supposed to win\",\n",
    "\"I can't imagine what that feels like\",\n",
    "\"I wanna thank our incredible leadership team that is here the men and women across this state that worked so incredibly hard forging a grassroots coalition\",\n",
    "\"They're still counting the ballots\",\n",
    "\"so we don't know the exact result\",\n",
    "\"But I wanna congratulate Donald Trump on a strong evening tonight\",\n",
    "\"And I wanna congratulate the grassroots the conservatives across this country who have come together behind this campaign\",\n",
    "\"When we started this campaign nearly a year ago there were 17 candidates in the race\",\n",
    "\"The role of the first 4 primaries historically has been to narrow the field\",\n",
    "\"And we have seen the first 4 states do exactly that\",\n",
    "\"Narrow the field\",\n",
    "\"Now at this point we've had 4 primaries\",\n",
    "\"History teaches us that nobody has ever won the nomination without winning one of the first 3 primaries\",\n",
    "\"And there are only 2 people who have won one of the first 3 primaries\",\n",
    "\"Donald Trump and us\",\n",
    "\"And the undeniable reality that the first 4 states have shown is that the only campaign that has beaten Donald Trump and the only campaign that can beat Donald Trump is this campaign\",\n",
    "\"If you are one of the 65 percent of Republicans across this country who doesn't think Donald is the best candidate to go head to head with Hilary\",\n",
    "\"Who believes we do better in elections when we actually nominate a conservative\",\n",
    "\"Then the first 4 states have performed a vital function of narrowing this race and presenting a clear choice\",\n",
    "\"You can choose between two Washington dealmakers or one proven consistent conservative\",\n",
    "\"One week from today will be the most important night of this campaign\",\n",
    "\"One week from today is super Tuesday\",\n",
    "\"11 states Alabama Alaska Arkansas Georgia Massachusetts Minnesota Oklahoma Tennessee Vermont Virginia and the great state of Texas\",\n",
    "\"One week from today the most delegates that are awarded on a single day will be awarded next Tuesday\",\n",
    "\"The role of the first 4 states is to narrow the field and give super Tuesday a clear choice and now the voters can decide\",\n",
    "\"If you want a president who will stop amnesty\",\n",
    "\"Ask yourself who has led the fight against amnesty\",\n",
    "\"If you want a president who will repeal Obamacare\",\n",
    "\"Ask yourself who has led the fight against Obamacare\",\n",
    "\"If you want a president who will stand for life and marriage and religious liberty\",\n",
    "\"Ask yourself who's led the fight defending life and marriage and religious liberty\",\n",
    "\"If you want a president who will defend the second amendment right to keep and bear arms\",\n",
    "\"I've been told folks in Nevada kinda like their guns\"]"
   ]
  },
  {
   "cell_type": "code",
   "execution_count": null,
   "metadata": {
    "collapsed": false
   },
   "outputs": [],
   "source": []
  },
  {
   "cell_type": "code",
   "execution_count": 14,
   "metadata": {
    "collapsed": false
   },
   "outputs": [],
   "source": [
    "trump_116_gold = \"\\n\".join(trump_16_text).replace('\\n',' ').replace('.','').replace(',','').replace('?','')\n",
    "bernie_25_gold = \"\\n\".join(bernie_25_text).replace('\\n',' ').replace('.','').replace(',','').replace('?','')\n",
    "hilary_79_gold = \"\\n\".join(hilary_79_text).replace('\\n',' ').replace('.','').replace(',','').replace('?','')\n",
    "jeb_4_gold = \"\\n\".join(jeb_4_text).replace('\\n',' ').replace('.','').replace(',','').replace('?','')\n",
    "cruz_16_gold = \"\\n\".join(cruz_16_text).replace('\\n',' ').replace('.','').replace(',','').replace('?','')"
   ]
  },
  {
   "cell_type": "code",
   "execution_count": 162,
   "metadata": {
    "collapsed": false
   },
   "outputs": [],
   "source": [
    "with open(\"/home/jrgillick/Applause/asr-evaluation/asr_evaluation/trump_gold.txt\",\"w\") as f:\n",
    "    f.write(trump_116_gold.lower())\n",
    "with open(\"/home/jrgillick/Applause/asr-evaluation/asr_evaluation/trump_captions.txt\",\"w\") as f:\n",
    "    f.write(trump_116_captions.lower())\n",
    "with open(\"/home/jrgillick/Applause/asr-evaluation/asr_evaluation/bernie_gold.txt\",\"w\") as f:\n",
    "    f.write(bernie_25_gold.lower())\n",
    "with open(\"/home/jrgillick/Applause/asr-evaluation/asr_evaluation/bernie_captions.txt\",\"w\") as f:\n",
    "    f.write(bernie_25_captions.lower())\n",
    "with open(\"/home/jrgillick/Applause/asr-evaluation/asr_evaluation/hilary_gold.txt\",\"w\") as f:\n",
    "    f.write(hilary_79_gold.lower())\n",
    "with open(\"/home/jrgillick/Applause/asr-evaluation/asr_evaluation/hilary_captions.txt\",\"w\") as f:\n",
    "    f.write(hilary_79_captions.lower())\n",
    "with open(\"/home/jrgillick/Applause/asr-evaluation/asr_evaluation/jeb_gold.txt\",\"w\") as f:\n",
    "    f.write(jeb_4_gold.lower())\n",
    "with open(\"/home/jrgillick/Applause/asr-evaluation/asr_evaluation/jeb_captions.txt\",\"w\") as f:\n",
    "    f.write(jeb_4_captions.lower())\n",
    "with open(\"/home/jrgillick/Applause/asr-evaluation/asr_evaluation/cruz_gold.txt\",\"w\") as f:\n",
    "    f.write(cruz_16_gold.lower())\n",
    "with open(\"/home/jrgillick/Applause/asr-evaluation/asr_evaluation/cruz_captions.txt\",\"w\") as f:\n",
    "    f.write(cruz_16_captions.lower())"
   ]
  },
  {
   "cell_type": "code",
   "execution_count": 170,
   "metadata": {
    "collapsed": false
   },
   "outputs": [
    {
     "data": {
      "text/plain": [
       "['Sentence count: 1',\n",
       " 'WER:    49.624% (       330 /        665)',\n",
       " 'WRR:    51.429% (       342 /        665)',\n",
       " 'SER:   100.000% (         1 /          1)',\n",
       " '']"
      ]
     },
     "execution_count": 170,
     "metadata": {},
     "output_type": "execute_result"
    }
   ],
   "source": [
    "trump_cmd = 'python ../../asr-evaluation/asr_evaluation/__main__.py ../../asr-evaluation/asr_evaluation/trump_gold.txt ../../asr-evaluation/asr_evaluation/trump_captions.txt'\n",
    "trump_output = subprocess.check_output(trump_cmd, shell=True)\n",
    "trump_output.split('\\n')"
   ]
  },
  {
   "cell_type": "code",
   "execution_count": 171,
   "metadata": {
    "collapsed": false
   },
   "outputs": [
    {
     "data": {
      "text/plain": [
       "['Sentence count: 1',\n",
       " 'WER:    44.755% (       128 /        286)',\n",
       " 'WRR:    57.343% (       164 /        286)',\n",
       " 'SER:   100.000% (         1 /          1)',\n",
       " '']"
      ]
     },
     "execution_count": 171,
     "metadata": {},
     "output_type": "execute_result"
    }
   ],
   "source": [
    "bernie_cmd = 'python ../../asr-evaluation/asr_evaluation/__main__.py ../../asr-evaluation/asr_evaluation/bernie_gold.txt ../../asr-evaluation/asr_evaluation/bernie_captions.txt'\n",
    "bernie_output = subprocess.check_output(bernie_cmd, shell=True)\n",
    "bernie_output.split('\\n')"
   ]
  },
  {
   "cell_type": "code",
   "execution_count": 172,
   "metadata": {
    "collapsed": false
   },
   "outputs": [
    {
     "data": {
      "text/plain": [
       "['Sentence count: 1',\n",
       " 'WER:    17.956% (        65 /        362)',\n",
       " 'WRR:    85.912% (       311 /        362)',\n",
       " 'SER:   100.000% (         1 /          1)',\n",
       " '']"
      ]
     },
     "execution_count": 172,
     "metadata": {},
     "output_type": "execute_result"
    }
   ],
   "source": [
    "hilary_cmd = 'python ../../asr-evaluation/asr_evaluation/__main__.py ../../asr-evaluation/asr_evaluation/hilary_gold.txt ../../asr-evaluation/asr_evaluation/hilary_captions.txt'\n",
    "hilary_output = subprocess.check_output(hilary_cmd, shell=True)\n",
    "hilary_output.split('\\n')"
   ]
  },
  {
   "cell_type": "code",
   "execution_count": 165,
   "metadata": {
    "collapsed": false
   },
   "outputs": [
    {
     "data": {
      "text/plain": [
       "['Sentence count: 1',\n",
       " 'WER:    26.697% (       118 /        442)',\n",
       " 'WRR:    78.733% (       348 /        442)',\n",
       " 'SER:   100.000% (         1 /          1)',\n",
       " '']"
      ]
     },
     "execution_count": 165,
     "metadata": {},
     "output_type": "execute_result"
    }
   ],
   "source": [
    "jeb_cmd = 'python ../../asr-evaluation/asr_evaluation/__main__.py ../../asr-evaluation/asr_evaluation/jeb_gold.txt ../../asr-evaluation/asr_evaluation/jeb_captions.txt'\n",
    "jeb_output = subprocess.check_output(jeb_cmd, shell=True)\n",
    "jeb_output.split('\\n')"
   ]
  },
  {
   "cell_type": "code",
   "execution_count": 173,
   "metadata": {
    "collapsed": false
   },
   "outputs": [
    {
     "data": {
      "text/plain": [
       "['Sentence count: 1',\n",
       " 'WER:    10.751% (        53 /        493)',\n",
       " 'WRR:    92.698% (       457 /        493)',\n",
       " 'SER:   100.000% (         1 /          1)',\n",
       " '']"
      ]
     },
     "execution_count": 173,
     "metadata": {},
     "output_type": "execute_result"
    }
   ],
   "source": [
    "cruz_cmd = 'python ../../asr-evaluation/asr_evaluation/__main__.py ../../asr-evaluation/asr_evaluation/cruz_gold.txt ../../asr-evaluation/asr_evaluation/cruz_captions.txt'\n",
    "cruz_output = subprocess.check_output(cruz_cmd, shell=True)\n",
    "cruz_output.split('\\n')"
   ]
  },
  {
   "cell_type": "code",
   "execution_count": 189,
   "metadata": {
    "collapsed": false
   },
   "outputs": [
    {
     "name": "stdout",
     "output_type": "stream",
     "text": [
      "Total errors: 694\n",
      "Total words: 2248\n",
      "Word error rate: 0.3087\n"
     ]
    }
   ],
   "source": [
    "total_errors = 330+128+65+118+53\n",
    "total_words = 665+286+362+442+493\n",
    "print(\"Total errors: %d\" % (total_errors))\n",
    "print(\"Total words: %d\" % (total_words))\n",
    "print(\"Word error rate: %0.4f\" % (float(total_errors)/total_words))"
   ]
  },
  {
   "cell_type": "code",
   "execution_count": 22,
   "metadata": {
    "collapsed": false
   },
   "outputs": [],
   "source": [
    "total_words_captioned = len(trump_116_captions.split(' ')) + len(bernie_25_captions.split(' ')) + len(hilary_79_captions.split(' ')) + len(jeb_4_captions.split(' ')) + len(cruz_16_captions.split(' '))"
   ]
  },
  {
   "cell_type": "code",
   "execution_count": 23,
   "metadata": {
    "collapsed": true
   },
   "outputs": [],
   "source": [
    "total_words_gold = len(trump_116_gold.split(' ')) + len(bernie_25_gold.split(' ')) + len(hilary_79_gold.split(' ')) + len(jeb_4_gold.split(' ')) + len(cruz_16_gold.split(' '))"
   ]
  },
  {
   "cell_type": "code",
   "execution_count": 24,
   "metadata": {
    "collapsed": false
   },
   "outputs": [
    {
     "data": {
      "text/plain": [
       "2249"
      ]
     },
     "execution_count": 24,
     "metadata": {},
     "output_type": "execute_result"
    }
   ],
   "source": [
    "total_words_gold"
   ]
  },
  {
   "cell_type": "code",
   "execution_count": 25,
   "metadata": {
    "collapsed": false
   },
   "outputs": [
    {
     "data": {
      "text/plain": [
       "1883"
      ]
     },
     "execution_count": 25,
     "metadata": {},
     "output_type": "execute_result"
    }
   ],
   "source": [
    "total_words_captioned"
   ]
  },
  {
   "cell_type": "code",
   "execution_count": 26,
   "metadata": {
    "collapsed": false
   },
   "outputs": [
    {
     "data": {
      "text/plain": [
       "0.8372610048910627"
      ]
     },
     "execution_count": 26,
     "metadata": {},
     "output_type": "execute_result"
    }
   ],
   "source": [
    "1883./2249"
   ]
  },
  {
   "cell_type": "code",
   "execution_count": null,
   "metadata": {
    "collapsed": true
   },
   "outputs": [],
   "source": []
  }
 ],
 "metadata": {
  "kernelspec": {
   "display_name": "Python 2",
   "language": "python",
   "name": "python2"
  },
  "language_info": {
   "codemirror_mode": {
    "name": "ipython",
    "version": 2
   },
   "file_extension": ".py",
   "mimetype": "text/x-python",
   "name": "python",
   "nbconvert_exporter": "python",
   "pygments_lexer": "ipython2",
   "version": "2.7.6"
  }
 },
 "nbformat": 4,
 "nbformat_minor": 1
}
