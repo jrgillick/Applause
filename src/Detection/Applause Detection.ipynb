{
 "cells": [
  {
   "cell_type": "code",
   "execution_count": 2,
   "metadata": {
    "collapsed": true
   },
   "outputs": [],
   "source": [
    "import os\n",
    "from IPython.display import Audio"
   ]
  },
  {
   "cell_type": "code",
   "execution_count": 8,
   "metadata": {
    "collapsed": true
   },
   "outputs": [],
   "source": [
    "applause_dirs = ['/data/jrgillick/applause-training-data/applause_pt1/', '/data/jrgillick/applause-training-data/applause_pt2/']\n",
    "non_applause_dirs = ['/data/jrgillick/applause-training-data/non_applause_pt1/','/data/jrgillick/applause-training-data/non_applause_pt2/']"
   ]
  },
  {
   "cell_type": "code",
   "execution_count": 68,
   "metadata": {
    "collapsed": true
   },
   "outputs": [],
   "source": [
    "applause_files = [[f for f in os.listdir(d)] for d in applause_dirs]\n",
    "applause_paths = [applause_dirs[0] + f for f in applause_files[0]] + [applause_dirs[1] + f for f in applause_files[1]]\n",
    "applause_files = applause_files[0] + applause_files[1]\n",
    "\n",
    "non_applause_files = [[f for f in os.listdir(d)] for d in non_applause_dirs]\n",
    "non_applause_paths = [non_applause_dirs[0] + f for f in non_applause_files[0]] + [non_applause_dirs[1] + f for f in non_applause_files[1]]\n",
    "non_applause_files = non_applause_files[0] + non_applause_files[1]"
   ]
  },
  {
   "cell_type": "code",
   "execution_count": 116,
   "metadata": {
    "collapsed": false
   },
   "outputs": [],
   "source": [
    "import keras\n",
    "import numpy as np\n",
    "import librosa\n",
    "from sklearn.utils import shuffle\n",
    "import pandas as pd"
   ]
  },
  {
   "cell_type": "code",
   "execution_count": 70,
   "metadata": {
    "collapsed": false
   },
   "outputs": [],
   "source": [
    "applause_labels = pd.read_csv('/data/jrgillick/applause-training-data/PennSound_applause_labels.csv',header=None)\n",
    "non_applause_labels = pd.read_csv('/data/jrgillick/applause-training-data/PennSound_non_applause_labels.csv',header=None)"
   ]
  },
  {
   "cell_type": "code",
   "execution_count": 71,
   "metadata": {
    "collapsed": false
   },
   "outputs": [],
   "source": [
    "applause_labels.columns = ['File','Start','End']\n",
    "non_applause_labels.columns = ['File','Start','End']"
   ]
  },
  {
   "cell_type": "markdown",
   "metadata": {},
   "source": [
    "<h2> Extract Features </h2>"
   ]
  },
  {
   "cell_type": "code",
   "execution_count": 162,
   "metadata": {
    "collapsed": true
   },
   "outputs": [],
   "source": [
    "def extract_features(f):\n",
    "    try:\n",
    "        y, sr = librosa.load(f)\n",
    "        mfcc = librosa.feature.mfcc(y,n_mfcc=13)\n",
    "        delta = librosa.feature.delta(mfcc)\n",
    "        return np.vstack([mfcc,delta])\n",
    "    except:\n",
    "        print \"%s failed\" % (f)\n",
    "\n",
    "def extract_features_from_files(files):\n",
    "    return [extract_features(f) for f in files]\n",
    "\n",
    "def get_features_and_labels(S,window_size):\n",
    "    features = []\n",
    "    for i in range(window_size,S.shape[1]-window_size):\n",
    "        feature = S[:,i-window_size:i+window_size]\n",
    "        features.append(feature.reshape((-1)))\n",
    "    return features"
   ]
  },
  {
   "cell_type": "code",
   "execution_count": 108,
   "metadata": {
    "collapsed": false
   },
   "outputs": [
    {
     "name": "stdout",
     "output_type": "stream",
     "text": [
      "/data/jrgillick/applause-training-data/applause_pt1/Yankelevich_Ostashevsky_04_Eugene_KWH-UPenn_10-11-2012__1469.0_1472.0.wav failed\n"
     ]
    }
   ],
   "source": [
    "applause_features = extract_features_from_files(applause_paths)\n",
    "applause_features = [f for f in applause_features if f is not None]\n",
    "non_applause_features = extract_features_from_files(non_applause_paths)"
   ]
  },
  {
   "cell_type": "code",
   "execution_count": 166,
   "metadata": {
    "collapsed": false
   },
   "outputs": [
    {
     "data": {
      "text/plain": [
       "55"
      ]
     },
     "execution_count": 166,
     "metadata": {},
     "output_type": "execute_result"
    }
   ],
   "source": [
    "test_set_index = int(len(applause_features) * 0.2)\n",
    "test_set_index"
   ]
  },
  {
   "cell_type": "code",
   "execution_count": 176,
   "metadata": {
    "collapsed": true
   },
   "outputs": [],
   "source": [
    "test_applause_feature_list = [np.array(get_features_and_labels(f,5)) for f in applause_features[0:test_set_index]]\n",
    "test_applause_features = np.vstack(test_applause_feature_list)\n",
    "test_applause_labels = np.ones(len(test_applause_features))\n",
    "\n",
    "test_non_applause_feature_list = [np.array(get_features_and_labels(f,5)) for f in non_applause_features[0:test_set_index]]\n",
    "test_non_applause_features = np.vstack(test_non_applause_feature_list)\n",
    "test_non_applause_labels = np.ones(len(test_non_applause_features))"
   ]
  },
  {
   "cell_type": "code",
   "execution_count": 180,
   "metadata": {
    "collapsed": false
   },
   "outputs": [],
   "source": [
    "train_applause_feature_list = [np.array(get_features_and_labels(f,5)) for f in applause_features[test_set_index:]]\n",
    "train_applause_features = np.vstack(train_applause_feature_list)\n",
    "train_applause_labels = np.ones(len(train_applause_features))\n",
    "\n",
    "train_non_applause_feature_list = [np.array(get_features_and_labels(f,5)) for f in non_applause_features[test_set_index:]]\n",
    "train_non_applause_features = np.vstack(train_non_applause_feature_list)\n",
    "train_non_applause_labels = np.ones(len(train_non_applause_features))"
   ]
  },
  {
   "cell_type": "code",
   "execution_count": 196,
   "metadata": {
    "collapsed": false
   },
   "outputs": [],
   "source": [
    "X_train = np.vstack([train_applause_features,train_non_applause_features])\n",
    "y_train = np.concatenate([train_applause_labels,train_non_applause_labels])"
   ]
  },
  {
   "cell_type": "code",
   "execution_count": 197,
   "metadata": {
    "collapsed": true
   },
   "outputs": [],
   "source": [
    "X_test = np.vstack([test_applause_features,test_non_applause_features])\n",
    "y_test = np.concatenate([test_applause_labels,test_non_applause_labels])"
   ]
  },
  {
   "cell_type": "code",
   "execution_count": 280,
   "metadata": {
    "collapsed": true
   },
   "outputs": [],
   "source": [
    "X_train, y_train = shuffle(X_train,y_train)\n",
    "X_test, y_test = shuffle(X_test, y_test)"
   ]
  },
  {
   "cell_type": "code",
   "execution_count": 281,
   "metadata": {
    "collapsed": true
   },
   "outputs": [],
   "source": [
    "for i in xrange(X_train.shape[1]):\n",
    "    mean = np.mean(X_train[:,i])\n",
    "    X_train[:,i] -= mean\n",
    "    X_test[:,i] -=mean\n",
    "    std = np.std(X_train[:,i])\n",
    "    X_train[:,i] /= std\n",
    "    X_test[:,i] /= std"
   ]
  },
  {
   "cell_type": "markdown",
   "metadata": {},
   "source": [
    "<h2> Run Model </h2>"
   ]
  },
  {
   "cell_type": "code",
   "execution_count": 282,
   "metadata": {
    "collapsed": true
   },
   "outputs": [],
   "source": [
    "import keras\n",
    "from keras.models import Sequential\n",
    "from keras.layers import Dense, Activation, Convolution2D, MaxPooling2D, Flatten, Dropout\n",
    "import keras.optimizers\n",
    "from keras.models import load_model\n",
    "import keras.regularizers\n",
    "from keras.regularizers import l2, l1\n",
    "from keras.layers import LSTM\n",
    "from keras.layers import regularizers\n",
    "from keras.layers import Bidirectional"
   ]
  },
  {
   "cell_type": "code",
   "execution_count": 283,
   "metadata": {
    "collapsed": true
   },
   "outputs": [],
   "source": [
    "def initialize_ff_model():\n",
    "    model = Sequential()\n",
    "    model.add(Dense(100, use_bias=True, kernel_regularizer=regularizers.l2(0.5), input_dim=260))\n",
    "    model.add(Dropout(0.5))\n",
    "    model.add(Activation(\"relu\"))\n",
    "    model.add(Dense(1))\n",
    "    model.add(Activation('sigmoid'))\n",
    "    optimizer = keras.optimizers.Adam()\n",
    "    model.compile(optimizer=optimizer,loss='binary_crossentropy',metrics=['accuracy'])\n",
    "    return model"
   ]
  },
  {
   "cell_type": "code",
   "execution_count": 284,
   "metadata": {
    "collapsed": false
   },
   "outputs": [],
   "source": [
    "model = initialize_ff_model()"
   ]
  },
  {
   "cell_type": "code",
   "execution_count": 293,
   "metadata": {
    "collapsed": false
   },
   "outputs": [
    {
     "name": "stdout",
     "output_type": "stream",
     "text": [
      "Epoch 1/1\n",
      "89542/89542 [==============================] - 1s - loss: 0.0014 - acc: 1.0000     \n"
     ]
    },
    {
     "data": {
      "text/plain": [
       "<keras.callbacks.History at 0x7f52b6b42f50>"
      ]
     },
     "execution_count": 293,
     "metadata": {},
     "output_type": "execute_result"
    }
   ],
   "source": [
    "model.fit(X_train,y_train,epochs=1,batch_size=256,shuffle=True)"
   ]
  },
  {
   "cell_type": "code",
   "execution_count": 294,
   "metadata": {
    "collapsed": false
   },
   "outputs": [
    {
     "name": "stdout",
     "output_type": "stream",
     "text": [
      "11008/13199 [========================>.....] - ETA: 0s"
     ]
    },
    {
     "data": {
      "text/plain": [
       "[0.00068322052848112215, 1.0]"
      ]
     },
     "execution_count": 294,
     "metadata": {},
     "output_type": "execute_result"
    }
   ],
   "source": [
    "model.evaluate(X_test,y_test,batch_size=256)"
   ]
  },
  {
   "cell_type": "code",
   "execution_count": null,
   "metadata": {
    "collapsed": true
   },
   "outputs": [],
   "source": []
  },
  {
   "cell_type": "code",
   "execution_count": null,
   "metadata": {
    "collapsed": true
   },
   "outputs": [],
   "source": []
  }
 ],
 "metadata": {
  "kernelspec": {
   "display_name": "Python 2",
   "language": "python",
   "name": "python2"
  },
  "language_info": {
   "codemirror_mode": {
    "name": "ipython",
    "version": 2
   },
   "file_extension": ".py",
   "mimetype": "text/x-python",
   "name": "python",
   "nbconvert_exporter": "python",
   "pygments_lexer": "ipython2",
   "version": "2.7.6"
  }
 },
 "nbformat": 4,
 "nbformat_minor": 1
}
